{
  "nbformat": 4,
  "nbformat_minor": 0,
  "metadata": {
    "accelerator": "GPU",
    "colab": {
      "name": "Final Project - DL.ipynb",
      "provenance": [],
      "collapsed_sections": [],
      "toc_visible": true
    },
    "kernelspec": {
      "display_name": "Python 3",
      "name": "python3"
    }
  },
  "cells": [
    {
      "cell_type": "markdown",
      "metadata": {
        "id": "TheTx0Qd4Poc"
      },
      "source": [
        "# **Trabalho Final**: Deep Learning MO434/MC934\r\n",
        "Universidade Estadual de Campinas (UNICAMP), Instituto de Computação (IC)\r\n",
        "\r\n",
        "Profa. Sandra Avila, 2020s2\r\n",
        "\r\n",
        "\r\n",
        "\r\n"
      ]
    },
    {
      "cell_type": "code",
      "metadata": {
        "colab": {
          "base_uri": "https://localhost:8080/"
        },
        "id": "vb-yLKM24mWx",
        "outputId": "661a9505-f7b4-4d15-bffa-88b3b1b306d7"
      },
      "source": [
        "# RA & Name\r\n",
        "print('265673: ' + 'Gabriel Luciano Gomes')\r\n",
        "print('265146: ' + 'Gabriel Oliveira Campos')\r\n",
        "print('265674: ' + 'Paulo Júnio Reis Rodrigues')"
      ],
      "execution_count": null,
      "outputs": [
        {
          "output_type": "stream",
          "text": [
            "265673: Gabriel Luciano Gomes\n",
            "265146: Gabriel Oliveira Campos\n",
            "265674: Paulo Júnio Reis Rodrigues\n"
          ],
          "name": "stdout"
        }
      ]
    },
    {
      "cell_type": "markdown",
      "metadata": {
        "id": "bVijjBkkDQ2T"
      },
      "source": [
        "## Objetivo\r\n",
        "\r\n",
        "O objetivo deste trabalho é identificar, por meio de análise de raio x pulmonar, a presença de pneumonia nos pacientes. Junto a isso, caso positivo, identificar qual o motivo desta doença, seja ela causada por vírus ou por bactéria. Ainda assim, caso possível, detectar as subcategorias da enfermidade, sendo elas, COVID-19, SARS (Síndrome respiratória aguda grave) ou pela bactéria Streptococcus. Com isso, a finalidade do projeto é interessante, pois além de facilitar a identificação e classificação da patologia, auxiliará os agentes de saúde nos passos a serem adotados para recuperação da pessoa infectada. "
      ]
    },
    {
      "cell_type": "markdown",
      "metadata": {
        "id": "R8V91Ers5A46"
      },
      "source": [
        "## Dataset\r\n",
        "\r\n",
        "Para este projeto, será utilizado a base [CoronaHack -Chest X-Ray-Dataset](https://www.kaggle.com/praveengovi/coronahack-chest-xraydataset), dos autores *Joseph Paul Cohen, Paul Morrison and Lan Dao,* encontrada na plataforma **Kaggle**. A base é constituída por 5.910 imagens (JPEG) radiográficas da parte torácica dos pacientes. O conteúdo está categorizadas em dois grupos, pulmões saudáveis (1576 imagens) e pulmões com presença de pneumonia (4334 imagens). Este grupo está subdividido em outros grupos menores, sendo eles: \r\n",
        "\r\n",
        "| Causa  | Imagens  |  \r\n",
        "|---|---|\r\n",
        "| Fumo por estresse  | 2  |\r\n",
        "| Vírus (sem categoria)  | 1493   |\r\n",
        "| Vírus (COVID-19)  | 58  |\r\n",
        "| Vírus (SARS)  | 4  |\r\n",
        "| Bactéria (sem categoria)  | 2772  |\r\n",
        "| Bactéria (Streptococcus)  | 5  |\r\n",
        "\r\n",
        "A base está divida em duas grandes partes. A primeira delas, é a seção de treinamento, onde se encontra 5.286 imagens, partilhadas em dois grupos: 1.342 figuras de pulmões sem nenhuma pneumonia e 3.944 figuras de pulmões com pneumonia. Já a segunda parte é utilizada para a fase de testes, que é constituída por 624 imagens.\r\n",
        "\r\n",
        "Todas as imagens foram retiradas de fontes públicas, bem como coleta indireta de hospitais e médicos.\r\n"
      ]
    },
    {
      "cell_type": "markdown",
      "metadata": {
        "id": "kjyWZNfn5ix3"
      },
      "source": [
        "## Carregamento dos Dados\r\n",
        "\r\n",
        "O .zip contendo o dataset está hospedado no Kaggle. O código abaixo faz o download, e extrai o zip. Note que você precisará fazer o uplaod de um arquivo json, que pode ser obtido no próprio Kaggle na seção de API, presente nas configurações da conta. Caso haja alguma falha ou erro no processo, reinicie o notebook, e tente novamente.\r\n",
        "\r\n",
        "Depois desse processo, teremos no diretório os seguintes arquivos:\r\n",
        "* files\r\n",
        "  - Coronahack-Chest-XRay-Dataset\r\n",
        "    - Coronahack-Chest-XRay-Dataset/train: 5309 imagens.\r\n",
        "    - Coronahack-Chest-XRay-Dataset/test: 624 imagens.\r\n",
        "  - Chest_xray_Corona_Metadata.csv\r\n",
        "  - Chest_xray_Corona_dataset_Summary.csv"
      ]
    },
    {
      "cell_type": "code",
      "metadata": {
        "colab": {
          "base_uri": "https://localhost:8080/"
        },
        "id": "cVYiBRL_68KH",
        "outputId": "2d0eefc7-27bc-428e-848a-a63f31555deb"
      },
      "source": [
        "!pip install kaggle"
      ],
      "execution_count": null,
      "outputs": [
        {
          "output_type": "stream",
          "text": [
            "Requirement already satisfied: kaggle in /usr/local/lib/python3.6/dist-packages (1.5.10)\n",
            "Requirement already satisfied: python-dateutil in /usr/local/lib/python3.6/dist-packages (from kaggle) (2.8.1)\n",
            "Requirement already satisfied: certifi in /usr/local/lib/python3.6/dist-packages (from kaggle) (2020.12.5)\n",
            "Requirement already satisfied: six>=1.10 in /usr/local/lib/python3.6/dist-packages (from kaggle) (1.15.0)\n",
            "Requirement already satisfied: requests in /usr/local/lib/python3.6/dist-packages (from kaggle) (2.23.0)\n",
            "Requirement already satisfied: urllib3 in /usr/local/lib/python3.6/dist-packages (from kaggle) (1.24.3)\n",
            "Requirement already satisfied: python-slugify in /usr/local/lib/python3.6/dist-packages (from kaggle) (4.0.1)\n",
            "Requirement already satisfied: tqdm in /usr/local/lib/python3.6/dist-packages (from kaggle) (4.41.1)\n",
            "Requirement already satisfied: chardet<4,>=3.0.2 in /usr/local/lib/python3.6/dist-packages (from requests->kaggle) (3.0.4)\n",
            "Requirement already satisfied: idna<3,>=2.5 in /usr/local/lib/python3.6/dist-packages (from requests->kaggle) (2.10)\n",
            "Requirement already satisfied: text-unidecode>=1.3 in /usr/local/lib/python3.6/dist-packages (from python-slugify->kaggle) (1.3)\n"
          ],
          "name": "stdout"
        }
      ]
    },
    {
      "cell_type": "code",
      "metadata": {
        "id": "69Gd_5Y5x5C0"
      },
      "source": [
        "# Imports\r\n",
        "from google.colab import files\r\n",
        "import zipfile\r\n",
        "from keras.preprocessing.image import ImageDataGenerator\r\n",
        "import pandas as pd\r\n",
        "import numpy as np\r\n",
        "import tensorflow as tf\r\n",
        "from matplotlib import pyplot"
      ],
      "execution_count": null,
      "outputs": []
    },
    {
      "cell_type": "code",
      "metadata": {
        "colab": {
          "resources": {
            "http://localhost:8080/nbextensions/google.colab/files.js": {
              "data": "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",
              "headers": [
                [
                  "content-type",
                  "application/javascript"
                ]
              ],
              "ok": true,
              "status": 200,
              "status_text": ""
            }
          },
          "base_uri": "https://localhost:8080/",
          "height": 70
        },
        "id": "YTr4aKtZ8-Z6",
        "outputId": "1c748c5d-dd30-4806-93c1-79b2b003163d"
      },
      "source": [
        "files.upload()\r\n",
        "\r\n",
        "# Since Kaggle API expects the json file to be in ~./kaggle folder, the following code does it.\r\n",
        "!mkdir -p ~/.kaggle\r\n",
        "!cp kaggle.json ~/.kaggle/\r\n",
        "!chmod 600 ~/.kaggle/kaggle.json"
      ],
      "execution_count": null,
      "outputs": [
        {
          "output_type": "display_data",
          "data": {
            "text/html": [
              "\n",
              "     <input type=\"file\" id=\"files-dd334f63-9508-4a0c-acab-966a8384c58b\" name=\"files[]\" multiple disabled\n",
              "        style=\"border:none\" />\n",
              "     <output id=\"result-dd334f63-9508-4a0c-acab-966a8384c58b\">\n",
              "      Upload widget is only available when the cell has been executed in the\n",
              "      current browser session. Please rerun this cell to enable.\n",
              "      </output>\n",
              "      <script src=\"/nbextensions/google.colab/files.js\"></script> "
            ],
            "text/plain": [
              "<IPython.core.display.HTML object>"
            ]
          },
          "metadata": {
            "tags": []
          }
        },
        {
          "output_type": "stream",
          "text": [
            "Saving kaggle.json to kaggle.json\n"
          ],
          "name": "stdout"
        }
      ]
    },
    {
      "cell_type": "code",
      "metadata": {
        "colab": {
          "base_uri": "https://localhost:8080/"
        },
        "id": "W-wez_CUGCPX",
        "outputId": "a395b94e-7110-48d5-ae74-8209bdbd46de"
      },
      "source": [
        "# Downloading and unzipping the data\r\n",
        "!kaggle datasets download -d praveengovi/coronahack-chest-xraydataset\r\n",
        "zip_ref = zipfile.ZipFile(\"coronahack-chest-xraydataset.zip\", \"r\")\r\n",
        "zip_ref.extractall(\"files\")\r\n",
        "zip_ref.close()"
      ],
      "execution_count": null,
      "outputs": [
        {
          "output_type": "stream",
          "text": [
            "Downloading coronahack-chest-xraydataset.zip to /content\n",
            "100% 1.18G/1.19G [00:13<00:00, 95.2MB/s]\n",
            "100% 1.19G/1.19G [00:13<00:00, 95.6MB/s]\n"
          ],
          "name": "stdout"
        }
      ]
    },
    {
      "cell_type": "code",
      "metadata": {
        "colab": {
          "base_uri": "https://localhost:8080/",
          "height": 191
        },
        "id": "FdaMks5gH6Ah",
        "outputId": "c4017b65-7468-462d-a6a6-d9991d38bdb1"
      },
      "source": [
        "from sklearn.utils import shuffle\r\n",
        "df = pd.read_csv('/content/files/Chest_xray_Corona_Metadata.csv')\r\n",
        "df.head()"
      ],
      "execution_count": null,
      "outputs": [
        {
          "output_type": "execute_result",
          "data": {
            "text/html": [
              "<div>\n",
              "<style scoped>\n",
              "    .dataframe tbody tr th:only-of-type {\n",
              "        vertical-align: middle;\n",
              "    }\n",
              "\n",
              "    .dataframe tbody tr th {\n",
              "        vertical-align: top;\n",
              "    }\n",
              "\n",
              "    .dataframe thead th {\n",
              "        text-align: right;\n",
              "    }\n",
              "</style>\n",
              "<table border=\"1\" class=\"dataframe\">\n",
              "  <thead>\n",
              "    <tr style=\"text-align: right;\">\n",
              "      <th></th>\n",
              "      <th>Unnamed: 0</th>\n",
              "      <th>X_ray_image_name</th>\n",
              "      <th>Label</th>\n",
              "      <th>Dataset_type</th>\n",
              "      <th>Label_2_Virus_category</th>\n",
              "      <th>Label_1_Virus_category</th>\n",
              "    </tr>\n",
              "  </thead>\n",
              "  <tbody>\n",
              "    <tr>\n",
              "      <th>0</th>\n",
              "      <td>0</td>\n",
              "      <td>IM-0128-0001.jpeg</td>\n",
              "      <td>Normal</td>\n",
              "      <td>TRAIN</td>\n",
              "      <td>NaN</td>\n",
              "      <td>NaN</td>\n",
              "    </tr>\n",
              "    <tr>\n",
              "      <th>1</th>\n",
              "      <td>1</td>\n",
              "      <td>IM-0127-0001.jpeg</td>\n",
              "      <td>Normal</td>\n",
              "      <td>TRAIN</td>\n",
              "      <td>NaN</td>\n",
              "      <td>NaN</td>\n",
              "    </tr>\n",
              "    <tr>\n",
              "      <th>2</th>\n",
              "      <td>2</td>\n",
              "      <td>IM-0125-0001.jpeg</td>\n",
              "      <td>Normal</td>\n",
              "      <td>TRAIN</td>\n",
              "      <td>NaN</td>\n",
              "      <td>NaN</td>\n",
              "    </tr>\n",
              "    <tr>\n",
              "      <th>3</th>\n",
              "      <td>3</td>\n",
              "      <td>IM-0122-0001.jpeg</td>\n",
              "      <td>Normal</td>\n",
              "      <td>TRAIN</td>\n",
              "      <td>NaN</td>\n",
              "      <td>NaN</td>\n",
              "    </tr>\n",
              "    <tr>\n",
              "      <th>4</th>\n",
              "      <td>4</td>\n",
              "      <td>IM-0119-0001.jpeg</td>\n",
              "      <td>Normal</td>\n",
              "      <td>TRAIN</td>\n",
              "      <td>NaN</td>\n",
              "      <td>NaN</td>\n",
              "    </tr>\n",
              "  </tbody>\n",
              "</table>\n",
              "</div>"
            ],
            "text/plain": [
              "   Unnamed: 0   X_ray_image_name  ... Label_2_Virus_category Label_1_Virus_category\n",
              "0           0  IM-0128-0001.jpeg  ...                    NaN                    NaN\n",
              "1           1  IM-0127-0001.jpeg  ...                    NaN                    NaN\n",
              "2           2  IM-0125-0001.jpeg  ...                    NaN                    NaN\n",
              "3           3  IM-0122-0001.jpeg  ...                    NaN                    NaN\n",
              "4           4  IM-0119-0001.jpeg  ...                    NaN                    NaN\n",
              "\n",
              "[5 rows x 6 columns]"
            ]
          },
          "metadata": {
            "tags": []
          },
          "execution_count": 7
        }
      ]
    },
    {
      "cell_type": "markdown",
      "metadata": {
        "id": "s7iaroRuJ6Yl"
      },
      "source": [
        "È possível indentificar os seguintes campos no conjunto de dados:\r\n",
        "\r\n",
        " - **X_ray_image_name:** nome da imagem\r\n",
        " - **Label:** identificação de presença ou não de Pnemonia ('Normal' ou 'Pnemonia')\r\n",
        " - **Dataset_type:** informação de qual conjunto a imagem pertence ('TRAIN' ou 'TEST')\r\n",
        " - **Label_2_Virus_category:** informação do vírus detectado ('NaN', 'Streptococcus', 'COVID-19', 'ARDS' ou 'SARS')\r\n",
        " - **Label_1_Virus_category:** informação de como a doença foi contraída ('NaN', 'Virus', 'bacteria', 'Stress-Smoking')"
      ]
    },
    {
      "cell_type": "code",
      "metadata": {
        "colab": {
          "base_uri": "https://localhost:8080/"
        },
        "id": "N48QyfIDIZ0R",
        "outputId": "455141d8-e3db-4037-916d-e1e308c31c9e"
      },
      "source": [
        "# Identifying the train and test dataset within database\r\n",
        "trainVal = df.loc[df.Dataset_type == 'TRAIN']\r\n",
        "test = df.loc[df.Dataset_type == 'TEST']\r\n",
        "\r\n",
        "# Shuffle and split test database into 80% train and 20% validation\r\n",
        "nData = trainVal.shape[0]\r\n",
        "nTrain = int(nData * 0.8)\r\n",
        "randomIdx = np.random.permutation(np.arange(nData))\r\n",
        "trainIdx = randomIdx[:nTrain]\r\n",
        "valIdx = randomIdx[nTrain:]\r\n",
        "\r\n",
        "val = trainVal.copy().drop(trainIdx)\r\n",
        "train = trainVal.copy().drop(valIdx)\r\n",
        "\r\n",
        "\r\n",
        "print(\"Conjunto de Treino -> \", train.shape)\r\n",
        "print(\"Conjunto de Validação -> \", val.shape)\r\n",
        "print(\"Conjunto de Teste -> \", test.shape)"
      ],
      "execution_count": null,
      "outputs": [
        {
          "output_type": "stream",
          "text": [
            "Conjunto de Treino ->  (4228, 6)\n",
            "Conjunto de Validação ->  (1058, 6)\n",
            "Conjunto de Teste ->  (624, 6)\n"
          ],
          "name": "stdout"
        }
      ]
    },
    {
      "cell_type": "markdown",
      "metadata": {
        "id": "EgSoWJMJ7NAm"
      },
      "source": [
        "### Embaralhando a base de treino e validação"
      ]
    },
    {
      "cell_type": "code",
      "metadata": {
        "colab": {
          "base_uri": "https://localhost:8080/",
          "height": 191
        },
        "id": "2kDEW8QO7Mim",
        "outputId": "390eafaf-e1aa-497f-d9bd-946ffbfb0f58"
      },
      "source": [
        "train = shuffle(train).reset_index(drop=True)\r\n",
        "val = shuffle(val).reset_index(drop=True)\r\n",
        "train.head()"
      ],
      "execution_count": null,
      "outputs": [
        {
          "output_type": "execute_result",
          "data": {
            "text/html": [
              "<div>\n",
              "<style scoped>\n",
              "    .dataframe tbody tr th:only-of-type {\n",
              "        vertical-align: middle;\n",
              "    }\n",
              "\n",
              "    .dataframe tbody tr th {\n",
              "        vertical-align: top;\n",
              "    }\n",
              "\n",
              "    .dataframe thead th {\n",
              "        text-align: right;\n",
              "    }\n",
              "</style>\n",
              "<table border=\"1\" class=\"dataframe\">\n",
              "  <thead>\n",
              "    <tr style=\"text-align: right;\">\n",
              "      <th></th>\n",
              "      <th>Unnamed: 0</th>\n",
              "      <th>X_ray_image_name</th>\n",
              "      <th>Label</th>\n",
              "      <th>Dataset_type</th>\n",
              "      <th>Label_2_Virus_category</th>\n",
              "      <th>Label_1_Virus_category</th>\n",
              "    </tr>\n",
              "  </thead>\n",
              "  <tbody>\n",
              "    <tr>\n",
              "      <th>0</th>\n",
              "      <td>847</td>\n",
              "      <td>NORMAL2-IM-0753-0001.jpeg</td>\n",
              "      <td>Normal</td>\n",
              "      <td>TRAIN</td>\n",
              "      <td>NaN</td>\n",
              "      <td>NaN</td>\n",
              "    </tr>\n",
              "    <tr>\n",
              "      <th>1</th>\n",
              "      <td>1778</td>\n",
              "      <td>person1193_virus_2034.jpeg</td>\n",
              "      <td>Pnemonia</td>\n",
              "      <td>TRAIN</td>\n",
              "      <td>NaN</td>\n",
              "      <td>Virus</td>\n",
              "    </tr>\n",
              "    <tr>\n",
              "      <th>2</th>\n",
              "      <td>3590</td>\n",
              "      <td>person337_bacteria_1563.jpeg</td>\n",
              "      <td>Pnemonia</td>\n",
              "      <td>TRAIN</td>\n",
              "      <td>NaN</td>\n",
              "      <td>bacteria</td>\n",
              "    </tr>\n",
              "    <tr>\n",
              "      <th>3</th>\n",
              "      <td>920</td>\n",
              "      <td>NORMAL2-IM-0851-0001.jpeg</td>\n",
              "      <td>Normal</td>\n",
              "      <td>TRAIN</td>\n",
              "      <td>NaN</td>\n",
              "      <td>NaN</td>\n",
              "    </tr>\n",
              "    <tr>\n",
              "      <th>4</th>\n",
              "      <td>5176</td>\n",
              "      <td>person912_bacteria_2837.jpeg</td>\n",
              "      <td>Pnemonia</td>\n",
              "      <td>TRAIN</td>\n",
              "      <td>NaN</td>\n",
              "      <td>bacteria</td>\n",
              "    </tr>\n",
              "  </tbody>\n",
              "</table>\n",
              "</div>"
            ],
            "text/plain": [
              "   Unnamed: 0  ... Label_1_Virus_category\n",
              "0         847  ...                    NaN\n",
              "1        1778  ...                  Virus\n",
              "2        3590  ...               bacteria\n",
              "3         920  ...                    NaN\n",
              "4        5176  ...               bacteria\n",
              "\n",
              "[5 rows x 6 columns]"
            ]
          },
          "metadata": {
            "tags": []
          },
          "execution_count": 9
        }
      ]
    },
    {
      "cell_type": "markdown",
      "metadata": {
        "id": "xF-x-gxTL-WU"
      },
      "source": [
        "## Remoção de campos nulos"
      ]
    },
    {
      "cell_type": "code",
      "metadata": {
        "colab": {
          "base_uri": "https://localhost:8080/"
        },
        "id": "w7IVW5XdMQ2U",
        "outputId": "4c5b6ebd-a1af-4b67-adc6-8e5a71eebd32"
      },
      "source": [
        "# Verifying if there are null fields\r\n",
        "df.isnull().sum()"
      ],
      "execution_count": null,
      "outputs": [
        {
          "output_type": "execute_result",
          "data": {
            "text/plain": [
              "Unnamed: 0                   0\n",
              "X_ray_image_name             0\n",
              "Label                        0\n",
              "Dataset_type                 0\n",
              "Label_2_Virus_category    5841\n",
              "Label_1_Virus_category    1576\n",
              "dtype: int64"
            ]
          },
          "metadata": {
            "tags": []
          },
          "execution_count": 10
        }
      ]
    },
    {
      "cell_type": "code",
      "metadata": {
        "colab": {
          "base_uri": "https://localhost:8080/"
        },
        "id": "7neBLx9CMik5",
        "outputId": "1f6a5fba-61ce-4faf-b363-5e6ad3b78ad4"
      },
      "source": [
        "# As 'NaN' is considered a null value, we're going to replace it with 'unknown'\r\n",
        "# since it represents how the injury was contract\r\n",
        "df.fillna('unknown', inplace=True)\r\n",
        "\r\n",
        "# verifying dataset after the replacement\r\n",
        "print(df['Label_1_Virus_category'].value_counts())\r\n",
        "print('-'*42)\r\n",
        "print(df['Label_2_Virus_category'].value_counts())"
      ],
      "execution_count": null,
      "outputs": [
        {
          "output_type": "stream",
          "text": [
            "bacteria          2777\n",
            "unknown           1576\n",
            "Virus             1555\n",
            "Stress-Smoking       2\n",
            "Name: Label_1_Virus_category, dtype: int64\n",
            "------------------------------------------\n",
            "unknown          5841\n",
            "COVID-19           58\n",
            "Streptococcus       5\n",
            "SARS                4\n",
            "ARDS                2\n",
            "Name: Label_2_Virus_category, dtype: int64\n"
          ],
          "name": "stdout"
        }
      ]
    },
    {
      "cell_type": "markdown",
      "metadata": {
        "id": "ejsZNfk4pOLF"
      },
      "source": [
        "## Data Generator\r\n"
      ]
    },
    {
      "cell_type": "code",
      "metadata": {
        "id": "EZURH0R_pNzG"
      },
      "source": [
        "train_datagen = ImageDataGenerator(shear_range=0.2,\r\n",
        "                                    zoom_range=0.2,\r\n",
        "                                    rescale=1./255,\r\n",
        "                                    horizontal_flip=True)\r\n",
        "val_datagen = ImageDataGenerator(rescale=1./255)"
      ],
      "execution_count": null,
      "outputs": []
    },
    {
      "cell_type": "code",
      "metadata": {
        "colab": {
          "base_uri": "https://localhost:8080/"
        },
        "id": "QSsa6Xnqporh",
        "outputId": "14150c3c-b101-403b-b179-2515abaf5268"
      },
      "source": [
        "train_path = '/content/files/Coronahack-Chest-XRay-Dataset/Coronahack-Chest-XRay-Dataset/train'\r\n",
        "test_path = '/content/files/Coronahack-Chest-XRay-Dataset/Coronahack-Chest-XRay-Dataset/test'\r\n",
        "\r\n",
        "train_gen = train_datagen.flow_from_dataframe(dataframe=train,\r\n",
        "                                            directory=train_path,\r\n",
        "                                            x_col=\"X_ray_image_name\",\r\n",
        "                                            y_col=\"Label\",\r\n",
        "                                            target_size=(224,224),\r\n",
        "                                            batch_size=64,\r\n",
        "                                            class_mode='binary',\r\n",
        "                                            shuffle=True,\r\n",
        "                                            seed=21100109\r\n",
        "                                            )\r\n",
        "val_gen = val_datagen.flow_from_dataframe(dataframe=val,\r\n",
        "                                            directory=train_path,\r\n",
        "                                            x_col=\"X_ray_image_name\",\r\n",
        "                                            y_col=\"Label\",\r\n",
        "                                            target_size=(224,224),\r\n",
        "                                            batch_size=64,\r\n",
        "                                            class_mode='binary',\r\n",
        "                                            shuffle=True,\r\n",
        "                                            seed=21100109\r\n",
        "                                            )"
      ],
      "execution_count": null,
      "outputs": [
        {
          "output_type": "stream",
          "text": [
            "Found 4228 validated image filenames belonging to 2 classes.\n",
            "Found 1058 validated image filenames belonging to 2 classes.\n"
          ],
          "name": "stdout"
        }
      ]
    },
    {
      "cell_type": "markdown",
      "metadata": {
        "id": "ItVFFME61miI"
      },
      "source": [
        "### Exemplo de imagens da base de dados"
      ]
    },
    {
      "cell_type": "code",
      "metadata": {
        "colab": {
          "base_uri": "https://localhost:8080/",
          "height": 162
        },
        "id": "Ot9fbYEA1j3O",
        "outputId": "264f23d8-ae3b-43c7-ec8a-d7337e430c1a"
      },
      "source": [
        "batch=train_gen[0] # returns the next batch of images and labels \r\n",
        "for i in range (3):\r\n",
        "  pyplot.subplot(1,3,i+1)\r\n",
        "  img=batch[0][i]   # this is the first image  batch[0][1] would be the next image\r\n",
        "  pyplot.imshow(img, cmap='gray', interpolation='none')    \r\n",
        "  pyplot.title(\"Class: {}\".format('Normal' if train_gen.classes[i] == 0 else 'Pnemonia'))\r\n",
        "pyplot.show()"
      ],
      "execution_count": null,
      "outputs": [
        {
          "output_type": "display_data",
          "data": {
            "image/png": "[encoded data removed]",
            "text/plain": [
              "<Figure size 432x288 with 3 Axes>"
            ]
          },
          "metadata": {
            "tags": []
          }
        }
      ]
    },
    {
      "cell_type": "markdown",
      "metadata": {
        "id": "szQtnnysuHGS"
      },
      "source": [
        "\r\n",
        "## DenseNet201\r\n",
        "\r\n"
      ]
    },
    {
      "cell_type": "code",
      "metadata": {
        "colab": {
          "base_uri": "https://localhost:8080/"
        },
        "id": "XG21DTNbuGbT",
        "outputId": "b8e9a90e-c30b-4940-f135-de9856555b6d"
      },
      "source": [
        "# Carregamento do modelo pré-treinado SEM as camadas densas (include_top = False)\r\n",
        "model = tf.keras.applications.DenseNet201(weights='imagenet', include_top=False, input_shape=(224,224,3))\r\n",
        "#model.summary()\r\n",
        "\r\n",
        "# Congela camadas pré-treinadas\r\n",
        "for layer in model.layers:\r\n",
        "    layer.trainable = False\r\n",
        "\r\n",
        "# Insere novas camadas no fim da rede para classificação\r\n",
        "full_model = tf.keras.Sequential([\r\n",
        "  model,\r\n",
        "  tf.keras.layers.GlobalAveragePooling2D(),\r\n",
        "  tf.keras.layers.Dense(1, activation='sigmoid')\r\n",
        "])\r\n",
        "\r\n",
        "full_model.summary()"
      ],
      "execution_count": null,
      "outputs": [
        {
          "output_type": "stream",
          "text": [
            "Downloading data from https://storage.googleapis.com/tensorflow/keras-applications/densenet/densenet201_weights_tf_dim_ordering_tf_kernels_notop.h5\n",
            "74842112/74836368 [==============================] - 1s 0us/step\n",
            "Model: \"sequential\"\n",
            "_________________________________________________________________\n",
            "Layer (type)                 Output Shape              Param #   \n",
            "=================================================================\n",
            "densenet201 (Functional)     (None, 7, 7, 1920)        18321984  \n",
            "_________________________________________________________________\n",
            "global_average_pooling2d (Gl (None, 1920)              0         \n",
            "_________________________________________________________________\n",
            "dense (Dense)                (None, 1)                 1921      \n",
            "=================================================================\n",
            "Total params: 18,323,905\n",
            "Trainable params: 1,921\n",
            "Non-trainable params: 18,321,984\n",
            "_________________________________________________________________\n"
          ],
          "name": "stdout"
        }
      ]
    },
    {
      "cell_type": "markdown",
      "metadata": {
        "id": "_xYfZ3WwuuHv"
      },
      "source": [
        "##Compilar e treinar o modelo"
      ]
    },
    {
      "cell_type": "code",
      "metadata": {
        "colab": {
          "base_uri": "https://localhost:8080/"
        },
        "id": "r10G4aemuwbI",
        "outputId": "a702ca28-61e7-4152-fd56-dcc555b58124"
      },
      "source": [
        "#add a earlystopping callback to stop the training if the model is not learning anymore\r\n",
        "callbacks = tf.keras.callbacks.EarlyStopping(monitor='val_loss', patience=3)\r\n",
        "\r\n",
        "full_model.compile(loss='binary_crossentropy', optimizer='adam', metrics=['accuracy']) \r\n",
        "\r\n",
        "history = full_model.fit(train_gen, batch_size=64, epochs=10, shuffle=True,\r\n",
        "                  validation_data=(val_gen),  callbacks = [callbacks])"
      ],
      "execution_count": null,
      "outputs": [
        {
          "output_type": "stream",
          "text": [
            "Epoch 1/10\n",
            "67/67 [==============================] - 115s 1s/step - loss: 0.5090 - accuracy: 0.7378 - val_loss: 0.2309 - val_accuracy: 0.9301\n",
            "Epoch 2/10\n",
            "67/67 [==============================] - 93s 1s/step - loss: 0.2394 - accuracy: 0.9180 - val_loss: 0.1761 - val_accuracy: 0.9386\n",
            "Epoch 3/10\n",
            "67/67 [==============================] - 92s 1s/step - loss: 0.2007 - accuracy: 0.9291 - val_loss: 0.1562 - val_accuracy: 0.9423\n",
            "Epoch 4/10\n",
            "67/67 [==============================] - 93s 1s/step - loss: 0.1711 - accuracy: 0.9377 - val_loss: 0.1441 - val_accuracy: 0.9442\n",
            "Epoch 5/10\n",
            "67/67 [==============================] - 93s 1s/step - loss: 0.1695 - accuracy: 0.9329 - val_loss: 0.1366 - val_accuracy: 0.9442\n",
            "Epoch 6/10\n",
            "67/67 [==============================] - 93s 1s/step - loss: 0.1521 - accuracy: 0.9428 - val_loss: 0.1297 - val_accuracy: 0.9480\n",
            "Epoch 7/10\n",
            "67/67 [==============================] - 93s 1s/step - loss: 0.1536 - accuracy: 0.9401 - val_loss: 0.1322 - val_accuracy: 0.9442\n",
            "Epoch 8/10\n",
            "67/67 [==============================] - 93s 1s/step - loss: 0.1417 - accuracy: 0.9448 - val_loss: 0.1281 - val_accuracy: 0.9433\n",
            "Epoch 9/10\n",
            "67/67 [==============================] - 92s 1s/step - loss: 0.1315 - accuracy: 0.9536 - val_loss: 0.1338 - val_accuracy: 0.9471\n",
            "Epoch 10/10\n",
            "67/67 [==============================] - 92s 1s/step - loss: 0.1262 - accuracy: 0.9520 - val_loss: 0.1157 - val_accuracy: 0.9518\n"
          ],
          "name": "stdout"
        }
      ]
    },
    {
      "cell_type": "markdown",
      "metadata": {
        "id": "T8liUsDw8VzR"
      },
      "source": [
        "### Plot de Val x Loss"
      ]
    },
    {
      "cell_type": "code",
      "metadata": {
        "colab": {
          "base_uri": "https://localhost:8080/",
          "height": 581
        },
        "id": "sknkMddn8Y0Y",
        "outputId": "9baf705c-32f4-4f3a-ea4f-8f842f8d8429"
      },
      "source": [
        "pyplot.plot(history.history['loss'])\r\n",
        "pyplot.plot(history.history['val_loss'])\r\n",
        "pyplot.title('Loss x Épocas')\r\n",
        "pyplot.ylabel('Loss')\r\n",
        "pyplot.xlabel('Época')\r\n",
        "pyplot.legend(['treino', 'validação'], loc='upper left')\r\n",
        "pyplot.show()\r\n",
        "\r\n",
        "pyplot.plot(history.history['accuracy'])\r\n",
        "pyplot.plot(history.history['val_accuracy'])\r\n",
        "pyplot.title('Acurácia x Épocas')\r\n",
        "pyplot.ylabel('Acurácia')\r\n",
        "pyplot.xlabel('Época')\r\n",
        "pyplot.legend(['treino', 'validação'], loc='upper left')\r\n",
        "pyplot.show()"
      ],
      "execution_count": null,
      "outputs": [
        {
          "output_type": "display_data",
          "data": {
            "image/png": "[encoded data removed]",
            "text/plain": [
              "<Figure size 432x288 with 1 Axes>"
            ]
          },
          "metadata": {
            "tags": []
          }
        },
        {
          "output_type": "display_data",
          "data": {
            "image/png": "[encoded data removed]",
            "text/plain": [
              "<Figure size 432x288 with 1 Axes>"
            ]
          },
          "metadata": {
            "tags": []
          }
        }
      ]
    },
    {
      "cell_type": "code",
      "metadata": {
        "colab": {
          "background_save": true,
          "base_uri": "https://localhost:8080/"
        },
        "id": "7s_5boXvDAeu",
        "outputId": "fb4d9c56-c78b-4a40-ecbd-5365e963a810"
      },
      "source": [
        "from sklearn.metrics import balanced_accuracy_score\r\n",
        "\r\n",
        "y_pred_train = np.concatenate(full_model.predict_classes(train_gen), axis=0)\r\n",
        "\r\n",
        "y_pred_val = np.concatenate(full_model.predict_classes(val_gen), axis=0)\r\n",
        "\r\n",
        "bas_train = balanced_accuracy_score(train_gen.classes, y_pred_train)\r\n",
        "bas_val = balanced_accuracy_score(val_gen.classes, y_pred_val)\r\n",
        "\r\n",
        "scoreTrain = full_model.evaluate(train_gen, verbose = 1)\r\n",
        "scoreVal = full_model.evaluate(val_gen, verbose = 1)\r\n",
        "print(f'Acurária de treino : {scoreTrain[1]:.4f}')\r\n",
        "print(f'Acurária de validação : {scoreVal[1]:.4f}')\r\n",
        "\r\n",
        "print(f'Acurácia balanceada treino : {bas_train:.4f}')\r\n",
        "print(f'Acurácia balanceada validação : {bas_val:.4f}')\r\n"
      ],
      "execution_count": null,
      "outputs": [
        {
          "output_type": "stream",
          "text": [
            "/usr/local/lib/python3.6/dist-packages/tensorflow/python/keras/engine/sequential.py:450: UserWarning: `model.predict_classes()` is deprecated and will be removed after 2021-01-01. Please use instead:* `np.argmax(model.predict(x), axis=-1)`,   if your model does multi-class classification   (e.g. if it uses a `softmax` last-layer activation).* `(model.predict(x) > 0.5).astype(\"int32\")`,   if your model does binary classification   (e.g. if it uses a `sigmoid` last-layer activation).\n",
            "  warnings.warn('`model.predict_classes()` is deprecated and '\n"
          ],
          "name": "stderr"
        },
        {
          "output_type": "stream",
          "text": [
            "67/67 [==============================] - 81s 1s/step - loss: 0.1276 - accuracy: 0.9529\n",
            "17/17 [==============================] - 11s 660ms/step - loss: 0.1157 - accuracy: 0.9518\n",
            "Acurária de treino : 0.9529\n",
            "Acurária de validação : 0.9518\n",
            "Acurácia balanceada treino : 0.5108\n",
            "Acurácia balanceada validação : 0.4960\n"
          ],
          "name": "stdout"
        }
      ]
    },
    {
      "cell_type": "markdown",
      "metadata": {
        "id": "VgXqP07O7ekQ"
      },
      "source": [
        "## InceptionV3"
      ]
    },
    {
      "cell_type": "code",
      "metadata": {
        "colab": {
          "base_uri": "https://localhost:8080/"
        },
        "id": "LasdaY2n7jZM",
        "outputId": "86afe75c-7434-46b9-f6ee-6ce4a38f14cf"
      },
      "source": [
        "# Carregamento do modelo pré-treinado SEM as camadas densas (include_top = False)\r\n",
        "model = tf.keras.applications.InceptionV3(weights='imagenet', include_top=False, input_shape=(255,255, 3))\r\n",
        "#model.summary()\r\n",
        "\r\n",
        "# Congela camadas pré-treinadas\r\n",
        "model.trainable = False\r\n",
        "\r\n",
        "# Insere novas camadas no fim da rede para classificação\r\n",
        "full_model = tf.keras.Sequential([\r\n",
        "  model,\r\n",
        "  tf.keras.layers.GlobalAveragePooling2D(),\r\n",
        "  tf.keras.layers.Dense(64, activation='tanh', kernel_regularizer = tf.keras.regularizers.l2(0.01), kernel_initializer = \"random_normal\"),\r\n",
        "  tf.keras.layers.Dense(1, activation='sigmoid', kernel_initializer = \"random_normal\")\r\n",
        "])\r\n",
        "\r\n",
        "full_model.summary()"
      ],
      "execution_count": null,
      "outputs": [
        {
          "output_type": "stream",
          "text": [
            "Downloading data from https://storage.googleapis.com/tensorflow/keras-applications/inception_v3/inception_v3_weights_tf_dim_ordering_tf_kernels_notop.h5\n",
            "87916544/87910968 [==============================] - 0s 0us/step\n",
            "Model: \"sequential\"\n",
            "_________________________________________________________________\n",
            "Layer (type)                 Output Shape              Param #   \n",
            "=================================================================\n",
            "inception_v3 (Functional)    (None, 6, 6, 2048)        21802784  \n",
            "_________________________________________________________________\n",
            "global_average_pooling2d (Gl (None, 2048)              0         \n",
            "_________________________________________________________________\n",
            "dense (Dense)                (None, 64)                131136    \n",
            "_________________________________________________________________\n",
            "dense_1 (Dense)              (None, 1)                 65        \n",
            "=================================================================\n",
            "Total params: 21,933,985\n",
            "Trainable params: 131,201\n",
            "Non-trainable params: 21,802,784\n",
            "_________________________________________________________________\n"
          ],
          "name": "stdout"
        }
      ]
    },
    {
      "cell_type": "markdown",
      "metadata": {
        "id": "rTPUuXRh8NK6"
      },
      "source": [
        "##Compilar e treinar o modelo"
      ]
    },
    {
      "cell_type": "code",
      "metadata": {
        "colab": {
          "base_uri": "https://localhost:8080/"
        },
        "id": "zThqF3RP8NK7",
        "outputId": "d9e7eb88-9e5b-418b-868e-22f43594d918"
      },
      "source": [
        "#add a earlystopping callback to stop the training if the model is not learning anymore\r\n",
        "callbacks = tf.keras.callbacks.EarlyStopping(monitor='val_loss', patience=3)\r\n",
        "\r\n",
        "full_model.compile(loss='binary_crossentropy', optimizer='adam', metrics=['accuracy']) \r\n",
        "\r\n",
        "history = full_model.fit(train_gen, batch_size=64, epochs=15, shuffle=True,\r\n",
        "                  validation_data=(val_gen),  callbacks = [callbacks])"
      ],
      "execution_count": null,
      "outputs": [
        {
          "output_type": "stream",
          "text": [
            "Epoch 1/15\n",
            "67/67 [==============================] - 100s 1s/step - loss: 2.8113 - accuracy: 0.7634 - val_loss: 0.9142 - val_accuracy: 0.9017\n",
            "Epoch 2/15\n",
            "67/67 [==============================] - 88s 1s/step - loss: 0.7269 - accuracy: 0.9094 - val_loss: 0.3933 - val_accuracy: 0.9395\n",
            "Epoch 3/15\n",
            "67/67 [==============================] - 87s 1s/step - loss: 0.4004 - accuracy: 0.9115 - val_loss: 0.2822 - val_accuracy: 0.9386\n",
            "Epoch 4/15\n",
            "67/67 [==============================] - 87s 1s/step - loss: 0.2964 - accuracy: 0.9232 - val_loss: 0.2461 - val_accuracy: 0.9376\n",
            "Epoch 5/15\n",
            "67/67 [==============================] - 87s 1s/step - loss: 0.2698 - accuracy: 0.9229 - val_loss: 0.2095 - val_accuracy: 0.9527\n",
            "Epoch 6/15\n",
            "67/67 [==============================] - 87s 1s/step - loss: 0.2466 - accuracy: 0.9311 - val_loss: 0.1942 - val_accuracy: 0.9499\n",
            "Epoch 7/15\n",
            "67/67 [==============================] - 87s 1s/step - loss: 0.2146 - accuracy: 0.9426 - val_loss: 0.1938 - val_accuracy: 0.9414\n",
            "Epoch 8/15\n",
            "67/67 [==============================] - 87s 1s/step - loss: 0.2711 - accuracy: 0.9118 - val_loss: 0.1976 - val_accuracy: 0.9423\n",
            "Epoch 9/15\n",
            "67/67 [==============================] - 87s 1s/step - loss: 0.2097 - accuracy: 0.9380 - val_loss: 0.2258 - val_accuracy: 0.9291\n",
            "Epoch 10/15\n",
            "67/67 [==============================] - 86s 1s/step - loss: 0.2043 - accuracy: 0.9340 - val_loss: 0.1719 - val_accuracy: 0.9499\n",
            "Epoch 11/15\n",
            "67/67 [==============================] - 86s 1s/step - loss: 0.2161 - accuracy: 0.9241 - val_loss: 0.2279 - val_accuracy: 0.9310\n",
            "Epoch 12/15\n",
            "67/67 [==============================] - 86s 1s/step - loss: 0.1985 - accuracy: 0.9397 - val_loss: 0.1757 - val_accuracy: 0.9452\n",
            "Epoch 13/15\n",
            "67/67 [==============================] - 87s 1s/step - loss: 0.2095 - accuracy: 0.9313 - val_loss: 0.3893 - val_accuracy: 0.8526\n"
          ],
          "name": "stdout"
        }
      ]
    },
    {
      "cell_type": "markdown",
      "metadata": {
        "id": "LnjMOL-T8NK8"
      },
      "source": [
        "### Plot de Val x Loss"
      ]
    },
    {
      "cell_type": "code",
      "metadata": {
        "colab": {
          "base_uri": "https://localhost:8080/",
          "height": 581
        },
        "id": "tF9QvxG38NK8",
        "outputId": "6875d808-0031-4658-a932-0747620d8be3"
      },
      "source": [
        "pyplot.plot(history.history['loss'])\r\n",
        "pyplot.plot(history.history['val_loss'])\r\n",
        "pyplot.title('Loss x Épocas')\r\n",
        "pyplot.ylabel('Loss')\r\n",
        "pyplot.xlabel('Época')\r\n",
        "pyplot.legend(['treino', 'validação'], loc='upper left')\r\n",
        "pyplot.show()\r\n",
        "\r\n",
        "pyplot.plot(history.history['accuracy'])\r\n",
        "pyplot.plot(history.history['val_accuracy'])\r\n",
        "pyplot.title('Acurácia x Épocas')\r\n",
        "pyplot.ylabel('Acurácia')\r\n",
        "pyplot.xlabel('Época')\r\n",
        "pyplot.legend(['treino', 'validação'], loc='upper left')\r\n",
        "pyplot.show()"
      ],
      "execution_count": null,
      "outputs": [
        {
          "output_type": "display_data",
          "data": {
            "image/png": "[encoded data removed]",
            "text/plain": [
              "<Figure size 432x288 with 1 Axes>"
            ]
          },
          "metadata": {
            "tags": []
          }
        },
        {
          "output_type": "display_data",
          "data": {
            "image/png": "[encoded data removed]",
            "text/plain": [
              "<Figure size 432x288 with 1 Axes>"
            ]
          },
          "metadata": {
            "tags": []
          }
        }
      ]
    },
    {
      "cell_type": "code",
      "metadata": {
        "colab": {
          "base_uri": "https://localhost:8080/"
        },
        "id": "aKcuwS-j8NK9",
        "outputId": "7397d9f9-7b3f-4d71-f8b7-25349cbaa861"
      },
      "source": [
        "scoreTrain = full_model.evaluate(train_gen, verbose = 1)\r\n",
        "scoreVal = full_model.evaluate(val_gen, verbose = 1)\r\n",
        "print(f'Acurária de treino : {scoreTrain[1]:.4f}')\r\n",
        "print(f'Acurária de validação : {scoreVal[1]:.4f}')"
      ],
      "execution_count": null,
      "outputs": [
        {
          "output_type": "stream",
          "text": [
            "67/67 [==============================] - 76s 1s/step - loss: 0.3660 - accuracy: 0.8631\n",
            "17/17 [==============================] - 10s 588ms/step - loss: 0.3893 - accuracy: 0.8526\n",
            "Acurária de treino : 0.8631\n",
            "Acurária de validação : 0.8526\n"
          ],
          "name": "stdout"
        }
      ]
    },
    {
      "cell_type": "code",
      "metadata": {
        "colab": {
          "base_uri": "https://localhost:8080/"
        },
        "id": "pcDj79Yv8NK9",
        "outputId": "29bb1b20-72e5-4ad8-f84d-f0b5a52eea4a"
      },
      "source": [
        "from sklearn.metrics import balanced_accuracy_score\r\n",
        "\r\n",
        "y_pred_train = np.concatenate(full_model.predict_classes(train_gen), axis=0)\r\n",
        "\r\n",
        "y_pred_val = np.concatenate(full_model.predict_classes(val_gen), axis=0)\r\n",
        "\r\n",
        "bas_train = balanced_accuracy_score(train_gen.classes, y_pred_train)\r\n",
        "bas_val = balanced_accuracy_score(val_gen.classes, y_pred_val)\r\n",
        "\r\n",
        "print(f'Acurácia balanceada treino : {bas_train:.4f}')\r\n",
        "print(f'Acurácia balanceada validação : {bas_val:.4f}')\r\n"
      ],
      "execution_count": null,
      "outputs": [
        {
          "output_type": "stream",
          "text": [
            "/usr/local/lib/python3.6/dist-packages/tensorflow/python/keras/engine/sequential.py:450: UserWarning: `model.predict_classes()` is deprecated and will be removed after 2021-01-01. Please use instead:* `np.argmax(model.predict(x), axis=-1)`,   if your model does multi-class classification   (e.g. if it uses a `softmax` last-layer activation).* `(model.predict(x) > 0.5).astype(\"int32\")`,   if your model does binary classification   (e.g. if it uses a `sigmoid` last-layer activation).\n",
            "  warnings.warn('`model.predict_classes()` is deprecated and '\n"
          ],
          "name": "stderr"
        },
        {
          "output_type": "stream",
          "text": [
            "Acurácia balanceada treino : 0.4958\n",
            "Acurácia balanceada validação : 0.4923\n"
          ],
          "name": "stdout"
        }
      ]
    },
    {
      "cell_type": "markdown",
      "metadata": {
        "id": "nRSVyKuAzCbo"
      },
      "source": [
        "## Conjunto de dados com presença positiva da doença"
      ]
    },
    {
      "cell_type": "code",
      "metadata": {
        "colab": {
          "background_save": true
        },
        "id": "zVfK6bS9zJjS",
        "outputId": "393d7459-df99-4527-e6d1-637c86377bfa"
      },
      "source": [
        "df_sick = df.loc[df.Label == 'Pnemonia']\r\n",
        "df_sick = df_sick.loc[df_sick.Label_1_Virus_category != 'Stress-Smoking']\r\n",
        "df_sick = df_sick.loc[df_sick.Label_1_Virus_category != 'unknown'].reset_index(drop=True)\r\n",
        "\r\n",
        "trainVal_sick = df_sick.loc[df_sick.Dataset_type == 'TRAIN']\r\n",
        "test_sick = df_sick.loc[df_sick.Dataset_type == 'TEST']\r\n",
        "\r\n",
        "# Shuffle and split test database into 80% train and 20% validation\r\n",
        "nData = trainVal_sick.shape[0]\r\n",
        "nTrain = int(nData * 0.8)\r\n",
        "randomIdx = np.random.permutation(np.arange(nData))\r\n",
        "trainIdx = randomIdx[:nTrain]\r\n",
        "valIdx = randomIdx[nTrain:]\r\n",
        "\r\n",
        "val_sick = trainVal_sick.copy().drop(trainIdx)\r\n",
        "train_sick = trainVal_sick.copy().drop(valIdx)\r\n",
        "\r\n",
        "print(\"Conjunto de Treino -> \", train_sick.shape)\r\n",
        "print(\"Conjunto de Validação -> \", val_sick.shape)\r\n",
        "print(\"Conjunto de Teste -> \", test_sick.shape)"
      ],
      "execution_count": null,
      "outputs": [
        {
          "output_type": "stream",
          "text": [
            "Conjunto de Treino ->  (3153, 6)\n",
            "Conjunto de Validação ->  (789, 6)\n",
            "Conjunto de Teste ->  (390, 6)\n"
          ],
          "name": "stdout"
        }
      ]
    },
    {
      "cell_type": "markdown",
      "metadata": {
        "id": "nAgnMJhyMCfe"
      },
      "source": [
        "## Ocorrência de elementos"
      ]
    },
    {
      "cell_type": "code",
      "metadata": {
        "colab": {
          "background_save": true
        },
        "id": "b_JF6FNBLyK6",
        "outputId": "a3a18497-f735-410c-dfa2-b188da991037"
      },
      "source": [
        "np.random.seed(21100109)\r\n",
        "\r\n",
        "print(train_sick['Label_1_Virus_category'].value_counts()) \r\n",
        "\r\n",
        "remove_n = train_sick['Label_1_Virus_category'].value_counts()[0] - train_sick['Label_1_Virus_category'].value_counts()[1]\r\n",
        "print(remove_n)\r\n",
        "\r\n",
        "drop_indices = np.random.choice(train_sick[train_sick['Label_1_Virus_category'] =='bacteria'].index, remove_n, replace=False)\r\n",
        "df_subset = train_sick.loc[drop_indices, :]\r\n",
        "train_sick = train_sick.drop(drop_indices)\r\n",
        "print(train_sick['Label_1_Virus_category'].value_counts()) \r\n"
      ],
      "execution_count": null,
      "outputs": [
        {
          "output_type": "stream",
          "text": [
            "bacteria    2035\n",
            "Virus       1118\n",
            "Name: Label_1_Virus_category, dtype: int64\n",
            "917\n",
            "bacteria    1118\n",
            "Virus       1118\n",
            "Name: Label_1_Virus_category, dtype: int64\n"
          ],
          "name": "stdout"
        }
      ]
    },
    {
      "cell_type": "markdown",
      "metadata": {
        "id": "2WAgE6w86Z0i"
      },
      "source": [
        "## Data Generator com presença de Pneumonia"
      ]
    },
    {
      "cell_type": "code",
      "metadata": {
        "colab": {
          "background_save": true
        },
        "id": "xdKupA9n6ggO",
        "outputId": "0921f647-9564-488c-c217-828fdeb56c90"
      },
      "source": [
        "from sklearn.utils.class_weight import compute_class_weight\r\n",
        "\r\n",
        "train_path = '/content/files/Coronahack-Chest-XRay-Dataset/Coronahack-Chest-XRay-Dataset/train'\r\n",
        "test_path = '/content/files/Coronahack-Chest-XRay-Dataset/Coronahack-Chest-XRay-Dataset/test'\r\n",
        "\r\n",
        "pneumonia_train_gen = train_datagen.flow_from_dataframe(dataframe=train_sick,\r\n",
        "                                             directory=train_path,\r\n",
        "                                             x_col=\"X_ray_image_name\",\r\n",
        "                                             y_col=\"Label_1_Virus_category\",\r\n",
        "                                             target_size=(255, 255),\r\n",
        "                                             batch_size=32,\r\n",
        "                                             class_mode='binary',\r\n",
        "                                              shuffle=True\r\n",
        "                                             )\r\n",
        "pneumonia_val_gen = val_datagen.flow_from_dataframe(dataframe=val_sick,\r\n",
        "                                             directory=train_path,\r\n",
        "                                             x_col=\"X_ray_image_name\",\r\n",
        "                                             y_col=\"Label_1_Virus_category\",\r\n",
        "                                             target_size=(255, 255),\r\n",
        "                                             batch_size=32,\r\n",
        "                                             class_mode='binary',\r\n",
        "                                              shuffle=True\r\n",
        "                                             )\r\n",
        "pneumonia_train_gen.class_indices\r\n",
        "\r\n",
        "class_weights = compute_class_weight(\"balanced\", np.unique(pneumonia_train_gen.classes), pneumonia_train_gen.classes)\r\n",
        "train_class_weights = dict(enumerate(class_weights))\r\n",
        "\r\n",
        "print(train_class_weights)"
      ],
      "execution_count": null,
      "outputs": [
        {
          "output_type": "stream",
          "text": [
            "Found 2236 validated image filenames belonging to 2 classes.\n",
            "Found 789 validated image filenames belonging to 2 classes.\n",
            "{0: 1.0, 1: 1.0}\n"
          ],
          "name": "stdout"
        }
      ]
    },
    {
      "cell_type": "code",
      "metadata": {
        "colab": {
          "base_uri": "https://localhost:8080/"
        },
        "id": "eYRhAym-NkNi",
        "outputId": "b34d42de-037a-468e-d0f8-3658d3cf647c"
      },
      "source": [
        "pneumonia_train_gen.class_indices"
      ],
      "execution_count": null,
      "outputs": [
        {
          "output_type": "execute_result",
          "data": {
            "text/plain": [
              "{'Virus': 0, 'bacteria': 1}"
            ]
          },
          "metadata": {
            "tags": []
          },
          "execution_count": 65
        }
      ]
    },
    {
      "cell_type": "markdown",
      "metadata": {
        "id": "OV-f7rmlCeoj"
      },
      "source": [
        "## DenseNet201 modelo com doença positiva\r\n"
      ]
    },
    {
      "cell_type": "code",
      "metadata": {
        "colab": {
          "background_save": true
        },
        "id": "IZssP7trCqom",
        "outputId": "128ddf04-6f6e-4747-d64c-401ceab28ad2"
      },
      "source": [
        "# Carregamento do modelo pré-treinado SEM as camadas densas (include_top = False)\r\n",
        "model = tf.keras.applications.DenseNet201(weights='imagenet', include_top=False, input_shape=(255,255, 3))\r\n",
        "#model.summary()\r\n",
        "\r\n",
        "# Congela camadas pré-treinadas\r\n",
        "for layer in model.layers:\r\n",
        "    layer.trainable = False\r\n",
        "\r\n",
        "# Insere novas camadas no fim da rede para classificação\r\n",
        "full_model_sick = tf.keras.Sequential([\r\n",
        "  model,\r\n",
        "  tf.keras.layers.GlobalAveragePooling2D(),\r\n",
        "  tf.keras.layers.Dense(128),\r\n",
        "  tf.keras.layers.Dropout(0.2),\r\n",
        "  tf.keras.layers.Dense(1, activation='sigmoid')\r\n",
        "])\r\n",
        "\r\n",
        "full_model_sick.summary()"
      ],
      "execution_count": null,
      "outputs": [
        {
          "output_type": "stream",
          "text": [
            "Model: \"sequential_1\"\n",
            "_________________________________________________________________\n",
            "Layer (type)                 Output Shape              Param #   \n",
            "=================================================================\n",
            "densenet201 (Functional)     (None, 8, 8, 1920)        18321984  \n",
            "_________________________________________________________________\n",
            "global_average_pooling2d_1 ( (None, 1920)              0         \n",
            "_________________________________________________________________\n",
            "dense_1 (Dense)              (None, 128)               245888    \n",
            "_________________________________________________________________\n",
            "dropout (Dropout)            (None, 128)               0         \n",
            "_________________________________________________________________\n",
            "dense_2 (Dense)              (None, 1)                 129       \n",
            "=================================================================\n",
            "Total params: 18,568,001\n",
            "Trainable params: 246,017\n",
            "Non-trainable params: 18,321,984\n",
            "_________________________________________________________________\n"
          ],
          "name": "stdout"
        }
      ]
    },
    {
      "cell_type": "code",
      "metadata": {
        "id": "--T99sEFCt1a"
      },
      "source": [
        "from keras.callbacks import EarlyStopping\r\n",
        "from keras.callbacks import ReduceLROnPlateau\r\n",
        "\r\n",
        "#Adicionando um early stopping e um learning rate reduction\r\n",
        "monitor = \"val_accuracy\"\r\n",
        "early_stop=tf.keras.callbacks.EarlyStopping(patience=3, restore_best_weights=True)\r\n",
        "Learning_rate_reduction=ReduceLROnPlateau(monitor=monitor,patience=2,verbose=1,factor=0.5,min_lr=0.001)\r\n",
        "callbacks=[Learning_rate_reduction]\r\n",
        "\r\n",
        "full_model_sick.compile(loss='binary_crossentropy', optimizer='adam', metrics=['accuracy'])\r\n",
        "\r\n",
        "history_sick = full_model_sick.fit(pneumonia_train_gen, batch_size=128, epochs=15, shuffle=True,\r\n",
        "                  class_weight=train_class_weights, validation_data=(pneumonia_val_gen), callbacks=[callbacks])"
      ],
      "execution_count": null,
      "outputs": []
    },
    {
      "cell_type": "markdown",
      "metadata": {
        "id": "whz3hmqiYPMj"
      },
      "source": [
        "### Plot de Val x Loss"
      ]
    },
    {
      "cell_type": "code",
      "metadata": {
        "colab": {
          "base_uri": "https://localhost:8080/",
          "height": 581
        },
        "id": "vOoVejeFYJrI",
        "outputId": "eaa131fc-a4f1-4770-efab-33896e8a2fa4"
      },
      "source": [
        "pyplot.plot(history_sick.history['loss'])\r\n",
        "pyplot.plot(history_sick.history['val_loss'])\r\n",
        "pyplot.title('Loss x Épocas')\r\n",
        "pyplot.ylabel('Loss')\r\n",
        "pyplot.xlabel('Época')\r\n",
        "pyplot.legend(['treino', 'validação'], loc='upper left')\r\n",
        "pyplot.show()\r\n",
        "\r\n",
        "pyplot.plot(history_sick.history['accuracy'])\r\n",
        "pyplot.plot(history_sick.history['val_accuracy'])\r\n",
        "pyplot.title('Acurácia x Épocas')\r\n",
        "pyplot.ylabel('Acurácia')\r\n",
        "pyplot.xlabel('Época')\r\n",
        "pyplot.legend(['treino', 'validação'], loc='upper left')\r\n",
        "pyplot.show()"
      ],
      "execution_count": null,
      "outputs": [
        {
          "output_type": "display_data",
          "data": {
            "image/png": "[encoded data removed]",
            "text/plain": [
              "<Figure size 432x288 with 1 Axes>"
            ]
          },
          "metadata": {
            "tags": []
          }
        },
        {
          "output_type": "display_data",
          "data": {
            "image/png": "[encoded data removed]",
            "text/plain": [
              "<Figure size 432x288 with 1 Axes>"
            ]
          },
          "metadata": {
            "tags": []
          }
        }
      ]
    },
    {
      "cell_type": "markdown",
      "metadata": {
        "id": "EphAAHK6JGDD"
      },
      "source": [
        "### Acurácia Treino e validação\r\n"
      ]
    },
    {
      "cell_type": "code",
      "metadata": {
        "colab": {
          "base_uri": "https://localhost:8080/"
        },
        "id": "PSWEwkZQJFKp",
        "outputId": "b50ecd42-1d67-45fb-bf69-95eea692c7e9"
      },
      "source": [
        "from sklearn.metrics import classification_report, confusion_matrix\r\n",
        "\r\n",
        "train_eval_result = full_model_sick.evaluate(pneumonia_train_gen) \r\n",
        "validation_eval_result = full_model_sick.evaluate(pneumonia_val_gen)\r\n",
        "\r\n",
        "print(f\"Training set accuracy: {train_eval_result[1]}\")\r\n",
        "print(f\"Validation set accuracy: {validation_eval_result[1]}\")"
      ],
      "execution_count": null,
      "outputs": [
        {
          "output_type": "stream",
          "text": [
            "/usr/local/lib/python3.6/dist-packages/tensorflow/python/keras/engine/sequential.py:450: UserWarning: `model.predict_classes()` is deprecated and will be removed after 2021-01-01. Please use instead:* `np.argmax(model.predict(x), axis=-1)`,   if your model does multi-class classification   (e.g. if it uses a `softmax` last-layer activation).* `(model.predict(x) > 0.5).astype(\"int32\")`,   if your model does binary classification   (e.g. if it uses a `sigmoid` last-layer activation).\n",
            "  warnings.warn('`model.predict_classes()` is deprecated and '\n"
          ],
          "name": "stderr"
        },
        {
          "output_type": "stream",
          "text": [
            "              precision    recall  f1-score   support\n",
            "\n",
            "           0       0.50      0.44      0.47      1137\n",
            "           1       0.50      0.56      0.53      1137\n",
            "\n",
            "    accuracy                           0.50      2274\n",
            "   macro avg       0.50      0.50      0.50      2274\n",
            "weighted avg       0.50      0.50      0.50      2274\n",
            "\n"
          ],
          "name": "stdout"
        }
      ]
    },
    {
      "cell_type": "markdown",
      "metadata": {
        "id": "GnSmdjYHRf4N"
      },
      "source": [
        "### Matriz de confusão Código Auxiliar\r\n"
      ]
    },
    {
      "cell_type": "code",
      "metadata": {
        "colab": {
          "base_uri": "https://localhost:8080/"
        },
        "id": "JqdeI9jPRf4N",
        "outputId": "327d69de-08c7-4fb0-bea8-08aa1ab1f9da"
      },
      "source": [
        "rounded_predictions = full_model_sick.predict_classes(pneumonia_val_gen, batch_size=32, verbose=0)"
      ],
      "execution_count": null,
      "outputs": [
        {
          "output_type": "stream",
          "text": [
            "/usr/local/lib/python3.6/dist-packages/tensorflow/python/keras/engine/sequential.py:450: UserWarning: `model.predict_classes()` is deprecated and will be removed after 2021-01-01. Please use instead:* `np.argmax(model.predict(x), axis=-1)`,   if your model does multi-class classification   (e.g. if it uses a `softmax` last-layer activation).* `(model.predict(x) > 0.5).astype(\"int32\")`,   if your model does binary classification   (e.g. if it uses a `sigmoid` last-layer activation).\n",
            "  warnings.warn('`model.predict_classes()` is deprecated and '\n"
          ],
          "name": "stderr"
        }
      ]
    },
    {
      "cell_type": "code",
      "metadata": {
        "id": "PFGduf7VRf4O"
      },
      "source": [
        "%matplotlib inline\r\n",
        "from sklearn.metrics import confusion_matrix\r\n",
        "import itertools\r\n",
        "import matplotlib.pyplot as plt"
      ],
      "execution_count": null,
      "outputs": []
    },
    {
      "cell_type": "code",
      "metadata": {
        "id": "miY4FLaORf4O"
      },
      "source": [
        "cm = confusion_matrix(pneumonia_val_gen.classes, rounded_predictions)"
      ],
      "execution_count": null,
      "outputs": []
    },
    {
      "cell_type": "code",
      "metadata": {
        "id": "pEWdGPb2Rf4O"
      },
      "source": [
        "def plot_confusion_matrix(cm, classes,\r\n",
        "                          normalize=False,\r\n",
        "                          title='Confusion Matrix',\r\n",
        "                          cmap=plt.cm.Blues):\r\n",
        "  \"\"\"\r\n",
        "  This function prints and plots the confusion matrix.\r\n",
        "  Normalization can be applied by setting `normalize=True`.\r\n",
        "  \"\"\"\r\n",
        "  plt.imshow(cm, interpolation='nearest', cmap=cmap)\r\n",
        "  plt.title(title)\r\n",
        "  plt.colorbar()\r\n",
        "  tick_marks = np.arange(len(classes))\r\n",
        "  plt.xticks(tick_marks, classes, rotation=45)\r\n",
        "  plt.yticks(tick_marks, classes)\r\n",
        "\r\n",
        "  if normalize:\r\n",
        "    cm = cm.astype('float') / cm.sum(axis=1)[:, np.newaxis]\r\n",
        "    print(\"Normalized confusion matrix\")\r\n",
        "  else:\r\n",
        "    print(\"Confusion Matrix, without normalization\")\r\n",
        "    \r\n",
        "  print(cm)\r\n",
        "\r\n",
        "  thresh = cm.max()/2\r\n",
        "  for i, j in itertools.product(range(cm.shape[0]), range(cm.shape[1])):\r\n",
        "    plt.text(j, i, cm[i, j],\r\n",
        "             horizontalalignment=\"center\",\r\n",
        "             color=\"red\" if cm[i, j] > thresh else \"black\")\r\n",
        "    \r\n",
        "  plt.tight_layout()\r\n",
        "  plt.ylabel(\"True label\")\r\n",
        "  plt.xlabel(\"Predicted label\")"
      ],
      "execution_count": null,
      "outputs": []
    },
    {
      "cell_type": "code",
      "metadata": {
        "colab": {
          "base_uri": "https://localhost:8080/",
          "height": 362
        },
        "id": "7lb5desYRf4P",
        "outputId": "a56e63df-0b22-4baf-c0c5-56bdc56e649e"
      },
      "source": [
        "cm_plot_lables = ['Vírus', 'Bactéria']\r\n",
        "plot_confusion_matrix(cm, cm_plot_lables, title=\"Matriz de confusão\")"
      ],
      "execution_count": null,
      "outputs": [
        {
          "output_type": "stream",
          "text": [
            "Confusion Matrix, without normalization\n",
            "[[116 165]\n",
            " [220 288]]\n"
          ],
          "name": "stdout"
        },
        {
          "output_type": "display_data",
          "data": {
            "image/png": "[encoded data removed]",
            "text/plain": [
              "<Figure size 432x288 with 2 Axes>"
            ]
          },
          "metadata": {
            "tags": []
          }
        }
      ]
    },
    {
      "cell_type": "markdown",
      "metadata": {
        "id": "9mqbc89FzAl3"
      },
      "source": [
        "## Matriz de confusão\r\n"
      ]
    },
    {
      "cell_type": "code",
      "metadata": {
        "colab": {
          "base_uri": "https://localhost:8080/",
          "height": 584
        },
        "id": "BMkh1StQzIwu",
        "outputId": "2555c2e1-47ad-459c-d080-4eec8f0bcbd8"
      },
      "source": [
        "import seaborn as sn\r\n",
        "from sklearn.metrics import confusion_matrix, plot_confusion_matrix, balanced_accuracy_score\r\n",
        "\r\n",
        "y_pred_train = full_model_sick.predict_classes(pneumonia_train_gen)\r\n",
        "y_pred_val = full_model_sick.predict_classes(pneumonia_val_gen)\r\n",
        "\r\n",
        "#Testando outra matriz\r\n",
        "con_mat = confusion_matrix(pneumonia_val_gen.classes, y_pred_val)\r\n",
        "\r\n",
        "df_cm = pd.DataFrame(con_mat, index = [i for i in \"AB\"],\r\n",
        "                  columns = [i for i in \"AB\"])\r\n",
        "\r\n",
        "pyplot.figure(figsize = (10,7))\r\n",
        "sn.heatmap(df_cm, annot=True)\r\n",
        "\r\n",
        "bas_train = balanced_accuracy_score(pneumonia_train_gen.classes, y_pred_train)\r\n",
        "bas_val = balanced_accuracy_score(pneumonia_val_gen.classes, y_pred_val)\r\n",
        "\r\n",
        "scoreTrain = full_model_sick.evaluate(pneumonia_train_gen, verbose = 1)\r\n",
        "scoreVal = full_model_sick.evaluate(pneumonia_val_gen, verbose = 1)\r\n",
        "print(f'Acurária de treino : {scoreTrain[1]:.4f}')\r\n",
        "print(f'Acurária de validação : {scoreVal[1]:.4f}')\r\n",
        "\r\n",
        "print(f'Acurácia balanceada treino : {bas_train:.4f}')\r\n",
        "print(f'Acurácia balanceada validação : {bas_val:.4f}')\r\n"
      ],
      "execution_count": null,
      "outputs": [
        {
          "output_type": "stream",
          "text": [
            "/usr/local/lib/python3.6/dist-packages/tensorflow/python/keras/engine/sequential.py:450: UserWarning: `model.predict_classes()` is deprecated and will be removed after 2021-01-01. Please use instead:* `np.argmax(model.predict(x), axis=-1)`,   if your model does multi-class classification   (e.g. if it uses a `softmax` last-layer activation).* `(model.predict(x) > 0.5).astype(\"int32\")`,   if your model does binary classification   (e.g. if it uses a `sigmoid` last-layer activation).\n",
            "  warnings.warn('`model.predict_classes()` is deprecated and '\n"
          ],
          "name": "stderr"
        },
        {
          "output_type": "stream",
          "text": [
            "18/18 [==============================] - 48s 3s/step - loss: 0.5461 - accuracy: 0.7376\n",
            "7/7 [==============================] - 17s 2s/step - loss: 0.5686 - accuracy: 0.7136\n",
            "Acurária de treino : 0.7376\n",
            "Acurária de validação : 0.7136\n",
            "Acurácia balanceada treino : 0.4824\n",
            "Acurácia balanceada validação : 0.4857\n"
          ],
          "name": "stdout"
        },
        {
          "output_type": "display_data",
          "data": {
            "image/png": "[encoded data removed]",
            "text/plain": [
              "<Figure size 720x504 with 2 Axes>"
            ]
          },
          "metadata": {
            "tags": []
          }
        }
      ]
    },
    {
      "cell_type": "markdown",
      "metadata": {
        "id": "m9LU1KXYW067"
      },
      "source": [
        "### DenseNet201 com Fine-tuning"
      ]
    },
    {
      "cell_type": "code",
      "metadata": {
        "id": "29Ac4aTnW-U3"
      },
      "source": [
        "# Descongela camadas pré-treinadas\r\n",
        "for layer in full_model_sick.layers:\r\n",
        "    layer.trainable = True\r\n",
        "\r\n",
        "full_model_sick.summary()"
      ],
      "execution_count": null,
      "outputs": []
    },
    {
      "cell_type": "code",
      "metadata": {
        "colab": {
          "base_uri": "https://localhost:8080/"
        },
        "id": "iyF7wTO0XPCg",
        "outputId": "28189465-4fc1-477c-af64-44a961086819"
      },
      "source": [
        "# Compile and train the model\r\n",
        "#add a earlystopping callback to stop the training if the model is not learning anymore\r\n",
        "\r\n",
        "full_model_sick.compile(loss='binary_crossentropy', optimizer='adam', metrics=['accuracy'])\r\n",
        "\r\n",
        "history_sick_finetuning = full_model_sick.fit(pneumonia_train_gen, batch_size=128, epochs=15, \r\n",
        "                  class_weight=train_class_weights, validation_data=(pneumonia_val_gen), callbacks=[callbacks])"
      ],
      "execution_count": null,
      "outputs": [
        {
          "output_type": "stream",
          "text": [
            "Epoch 1/15\n",
            "71/71 [==============================] - 94s 1s/step - loss: 0.7198 - accuracy: 0.6120 - val_loss: 1.4140 - val_accuracy: 0.6578\n",
            "Epoch 2/15\n",
            "71/71 [==============================] - 79s 1s/step - loss: 0.5964 - accuracy: 0.6949 - val_loss: 0.8548 - val_accuracy: 0.5019\n",
            "Epoch 3/15\n",
            "71/71 [==============================] - 79s 1s/step - loss: 0.5813 - accuracy: 0.7049 - val_loss: 0.8375 - val_accuracy: 0.6439\n",
            "\n",
            "Epoch 00003: ReduceLROnPlateau reducing learning rate to 0.001.\n",
            "Epoch 4/15\n",
            "71/71 [==============================] - 79s 1s/step - loss: 0.5558 - accuracy: 0.7323 - val_loss: 1.9941 - val_accuracy: 0.4918\n",
            "Epoch 5/15\n",
            "71/71 [==============================] - 79s 1s/step - loss: 0.5754 - accuracy: 0.7203 - val_loss: 1.3567 - val_accuracy: 0.4461\n",
            "\n",
            "Epoch 00005: ReduceLROnPlateau reducing learning rate to 0.001.\n",
            "Epoch 6/15\n",
            "71/71 [==============================] - 79s 1s/step - loss: 0.5303 - accuracy: 0.7502 - val_loss: 0.9174 - val_accuracy: 0.4461\n",
            "Epoch 7/15\n",
            "71/71 [==============================] - 79s 1s/step - loss: 0.5430 - accuracy: 0.7438 - val_loss: 0.9174 - val_accuracy: 0.5285\n",
            "\n",
            "Epoch 00007: ReduceLROnPlateau reducing learning rate to 0.001.\n",
            "Epoch 8/15\n",
            "71/71 [==============================] - 79s 1s/step - loss: 0.5187 - accuracy: 0.7656 - val_loss: 0.7136 - val_accuracy: 0.6768\n",
            "Epoch 9/15\n",
            "71/71 [==============================] - 79s 1s/step - loss: 0.5211 - accuracy: 0.7512 - val_loss: 0.5353 - val_accuracy: 0.7275\n",
            "Epoch 10/15\n",
            "71/71 [==============================] - 79s 1s/step - loss: 0.5109 - accuracy: 0.7508 - val_loss: 1.0073 - val_accuracy: 0.6071\n",
            "Epoch 11/15\n",
            "71/71 [==============================] - 79s 1s/step - loss: 0.5350 - accuracy: 0.7328 - val_loss: 1.1120 - val_accuracy: 0.4626\n",
            "\n",
            "Epoch 00011: ReduceLROnPlateau reducing learning rate to 0.001.\n",
            "Epoch 12/15\n",
            "71/71 [==============================] - 79s 1s/step - loss: 0.5270 - accuracy: 0.7421 - val_loss: 0.5101 - val_accuracy: 0.7452\n",
            "Epoch 13/15\n",
            "71/71 [==============================] - 79s 1s/step - loss: 0.4937 - accuracy: 0.7606 - val_loss: 0.6785 - val_accuracy: 0.6046\n",
            "Epoch 14/15\n",
            "71/71 [==============================] - 79s 1s/step - loss: 0.5253 - accuracy: 0.7361 - val_loss: 0.7905 - val_accuracy: 0.6578\n",
            "\n",
            "Epoch 00014: ReduceLROnPlateau reducing learning rate to 0.001.\n",
            "Epoch 15/15\n",
            "71/71 [==============================] - 79s 1s/step - loss: 0.4837 - accuracy: 0.7693 - val_loss: 0.5322 - val_accuracy: 0.7567\n"
          ],
          "name": "stdout"
        }
      ]
    },
    {
      "cell_type": "markdown",
      "metadata": {
        "id": "K5DIqyI3Ygff"
      },
      "source": [
        "### Plot de Val x Loss"
      ]
    },
    {
      "cell_type": "code",
      "metadata": {
        "colab": {
          "base_uri": "https://localhost:8080/",
          "height": 577
        },
        "id": "8bhGYkWjYia9",
        "outputId": "9304f741-e59f-4b69-e15a-73bfabe74629"
      },
      "source": [
        "pyplot.plot(history_sick_finetuning.history['loss'])\r\n",
        "pyplot.plot(history_sick_finetuning.history['val_loss'])\r\n",
        "pyplot.title('Loss x Epocas')\r\n",
        "pyplot.ylabel('Loss')\r\n",
        "pyplot.xlabel('Época')\r\n",
        "pyplot.legend(['treino', 'validação'], loc='upper left')\r\n",
        "pyplot.show()\r\n",
        "\r\n",
        "pyplot.plot(history_sick_finetuning.history['accuracy'])\r\n",
        "pyplot.plot(history_sick_finetuning.history['val_accuracy'])\r\n",
        "pyplot.title('Acurácia x Epocas')\r\n",
        "pyplot.ylabel('Acurácia')\r\n",
        "pyplot.xlabel('Época')\r\n",
        "pyplot.legend(['treino', 'validação'], loc='upper left')\r\n",
        "pyplot.show()"
      ],
      "execution_count": null,
      "outputs": [
        {
          "output_type": "display_data",
          "data": {
            "image/png": "[encoded data removed]",
            "text/plain": [
              "<Figure size 432x288 with 1 Axes>"
            ]
          },
          "metadata": {
            "tags": []
          }
        },
        {
          "output_type": "display_data",
          "data": {
            "image/png": "[encoded data removed]",
            "text/plain": [
              "<Figure size 432x288 with 1 Axes>"
            ]
          },
          "metadata": {
            "tags": []
          }
        }
      ]
    },
    {
      "cell_type": "markdown",
      "metadata": {
        "id": "c5ktlw5euZ3P"
      },
      "source": [
        "## Matriz de confusão\r\n",
        "\r\n"
      ]
    },
    {
      "cell_type": "code",
      "metadata": {
        "colab": {
          "base_uri": "https://localhost:8080/",
          "height": 518
        },
        "id": "b8Tg9a6a3R7W",
        "outputId": "ce675b28-ea61-40d9-dc18-1750c9c67100"
      },
      "source": [
        "y_pred_train = full_model_sick.predict_classes(pneumonia_train_gen)\r\n",
        "y_pred_val = full_model_sick.predict_classes(pneumonia_val_gen)\r\n",
        "\r\n",
        "bas_train = balanced_accuracy_score(pneumonia_train_gen.classes, y_pred_train)\r\n",
        "bas_val = balanced_accuracy_score(pneumonia_val_gen.classes, y_pred_val)\r\n",
        "\r\n",
        "scoreTrain = full_model_sick.evaluate(pneumonia_train_gen, verbose = 1)\r\n",
        "scoreVal = full_model_sick.evaluate(pneumonia_val_gen, verbose = 1)\r\n",
        "print(f'Acurária de treino : {scoreTrain[1]:.4f}')\r\n",
        "print(f'Acurária de validação : {scoreVal[1]:.4f}')\r\n",
        "\r\n",
        "print(f'Acurácia balanceada treino : {bas_train:.4f}')\r\n",
        "print(f'Acurácia balanceada validação : {bas_val:.4f}')"
      ],
      "execution_count": null,
      "outputs": [
        {
          "output_type": "stream",
          "text": [
            "/usr/local/lib/python3.6/dist-packages/tensorflow/python/keras/engine/sequential.py:450: UserWarning: `model.predict_classes()` is deprecated and will be removed after 2021-01-01. Please use instead:* `np.argmax(model.predict(x), axis=-1)`,   if your model does multi-class classification   (e.g. if it uses a `softmax` last-layer activation).* `(model.predict(x) > 0.5).astype(\"int32\")`,   if your model does binary classification   (e.g. if it uses a `sigmoid` last-layer activation).\n",
            "  warnings.warn('`model.predict_classes()` is deprecated and '\n"
          ],
          "name": "stderr"
        },
        {
          "output_type": "stream",
          "text": [
            "Confusion Matrix, without normalization\n",
            "[[223  53]\n",
            " [216  60]]\n",
            "71/71 [==============================] - 42s 596ms/step - loss: 0.6520 - accuracy: 0.6627\n",
            "18/18 [==============================] - 10s 555ms/step - loss: 0.7223 - accuracy: 0.6377\n",
            "Acurária de treino : 0.6627\n",
            "Acurária de validação : 0.6377\n",
            "Acurácia balanceada treino : 0.4965\n",
            "Acurácia balanceada validação : 0.5109\n"
          ],
          "name": "stdout"
        },
        {
          "output_type": "display_data",
          "data": {
            "image/png": "[encoded data removed]",
            "text/plain": [
              "<Figure size 432x288 with 2 Axes>"
            ]
          },
          "metadata": {
            "tags": []
          }
        }
      ]
    },
    {
      "cell_type": "markdown",
      "metadata": {
        "id": "KNtNPJQJ90Jh"
      },
      "source": [
        "## InceptionV3 modelo com doença positiva\r\n"
      ]
    },
    {
      "cell_type": "code",
      "metadata": {
        "colab": {
          "base_uri": "https://localhost:8080/"
        },
        "id": "afvCFMZa9yJE",
        "outputId": "d74ce599-c958-453a-af2e-a96d923f8115"
      },
      "source": [
        "# Carregamento do modelo pré-treinado SEM as camadas densas (include_top = False)\r\n",
        "model = tf.keras.applications.InceptionV3(weights='imagenet', include_top=False, input_shape=(255,255, 3))\r\n",
        "#model.summary()\r\n",
        "\r\n",
        "# Congela camadas pré-treinadas\r\n",
        "model.trainable = False\r\n",
        "\r\n",
        "# Insere novas camadas no fim da rede para classificação\r\n",
        "full_model_sick_v3 = tf.keras.Sequential([\r\n",
        "  model,\r\n",
        "  tf.keras.layers.GlobalAveragePooling2D(),\r\n",
        "  tf.keras.layers.Dense(64, activation='tanh', kernel_regularizer = tf.keras.regularizers.l2(0.01), kernel_initializer = \"random_normal\"),\r\n",
        "  tf.keras.layers.Dense(1, activation='sigmoid', kernel_initializer = \"random_normal\")\r\n",
        "])\r\n",
        "\r\n",
        "full_model_sick_v3.summary()"
      ],
      "execution_count": null,
      "outputs": [
        {
          "output_type": "stream",
          "text": [
            "Downloading data from https://storage.googleapis.com/tensorflow/keras-applications/inception_v3/inception_v3_weights_tf_dim_ordering_tf_kernels_notop.h5\n",
            "87916544/87910968 [==============================] - 1s 0us/step\n",
            "Model: \"sequential_3\"\n",
            "_________________________________________________________________\n",
            "Layer (type)                 Output Shape              Param #   \n",
            "=================================================================\n",
            "inception_v3 (Functional)    (None, 6, 6, 2048)        21802784  \n",
            "_________________________________________________________________\n",
            "global_average_pooling2d_3 ( (None, 2048)              0         \n",
            "_________________________________________________________________\n",
            "dense_3 (Dense)              (None, 64)                131136    \n",
            "_________________________________________________________________\n",
            "dense_4 (Dense)              (None, 1)                 65        \n",
            "=================================================================\n",
            "Total params: 21,933,985\n",
            "Trainable params: 131,201\n",
            "Non-trainable params: 21,802,784\n",
            "_________________________________________________________________\n"
          ],
          "name": "stdout"
        }
      ]
    },
    {
      "cell_type": "code",
      "metadata": {
        "colab": {
          "base_uri": "https://localhost:8080/"
        },
        "id": "jNHuTSbo99Dm",
        "outputId": "4cd8bb9b-c5b7-4da8-e899-16a06413a533"
      },
      "source": [
        "# full_model_sick_v3.compile(loss='binary_crossentropy', optimizer=tf.keras.optimizers.Adam(lr=0.001, decay=0.005), metrics=[tf.keras.metrics.AUC(name='auc')])\r\n",
        "full_model_sick_v3.compile(loss='binary_crossentropy', optimizer=tf.keras.optimizers.Adam(lr=0.001, decay=0.005), metrics=['accuracy'])\r\n",
        "\r\n",
        "callbacks = [early_stop, Learning_rate_reduction]\r\n",
        "\r\n",
        "history_sick_v3 = full_model_sick_v3.fit(pneumonia_train_gen, batch_size=128, epochs=30, verbose = 1, shuffle=True,\r\n",
        "                  validation_data=(pneumonia_val_gen), class_weight=train_class_weights , callbacks=[callbacks])"
      ],
      "execution_count": null,
      "outputs": [
        {
          "output_type": "stream",
          "text": [
            "Epoch 1/30\n",
            "71/71 [==============================] - 71s 937ms/step - loss: 2.9902 - accuracy: 0.6024 - val_loss: 1.5685 - val_accuracy: 0.5146\n",
            "Epoch 2/30\n",
            "71/71 [==============================] - 64s 909ms/step - loss: 1.2509 - accuracy: 0.6788 - val_loss: 0.9122 - val_accuracy: 0.7199\n",
            "Epoch 3/30\n",
            "71/71 [==============================] - 66s 935ms/step - loss: 0.9011 - accuracy: 0.6967 - val_loss: 0.7992 - val_accuracy: 0.7224\n",
            "Epoch 4/30\n",
            "71/71 [==============================] - 65s 924ms/step - loss: 0.7946 - accuracy: 0.6961 - val_loss: 0.7264 - val_accuracy: 0.7313\n",
            "Epoch 5/30\n",
            "71/71 [==============================] - 65s 921ms/step - loss: 0.7282 - accuracy: 0.7099 - val_loss: 0.7583 - val_accuracy: 0.6591\n",
            "Epoch 6/30\n",
            "71/71 [==============================] - 65s 920ms/step - loss: 0.6933 - accuracy: 0.7156 - val_loss: 0.6829 - val_accuracy: 0.7085\n",
            "\n",
            "Epoch 00006: ReduceLROnPlateau reducing learning rate to 0.001.\n",
            "Epoch 7/30\n",
            "71/71 [==============================] - 65s 916ms/step - loss: 0.6890 - accuracy: 0.7021 - val_loss: 0.6796 - val_accuracy: 0.7123\n",
            "Epoch 8/30\n",
            "71/71 [==============================] - 65s 912ms/step - loss: 0.6640 - accuracy: 0.7018 - val_loss: 0.6236 - val_accuracy: 0.7592\n",
            "Epoch 9/30\n",
            "71/71 [==============================] - 65s 918ms/step - loss: 0.6469 - accuracy: 0.7199 - val_loss: 0.7012 - val_accuracy: 0.6819\n",
            "Epoch 10/30\n",
            "71/71 [==============================] - 65s 915ms/step - loss: 0.6576 - accuracy: 0.6960 - val_loss: 0.6891 - val_accuracy: 0.6781\n",
            "\n",
            "Epoch 00010: ReduceLROnPlateau reducing learning rate to 0.001.\n",
            "Epoch 11/30\n",
            "71/71 [==============================] - 65s 919ms/step - loss: 0.6291 - accuracy: 0.7232 - val_loss: 0.6550 - val_accuracy: 0.7098\n"
          ],
          "name": "stdout"
        }
      ]
    },
    {
      "cell_type": "code",
      "metadata": {
        "colab": {
          "base_uri": "https://localhost:8080/",
          "height": 649
        },
        "id": "iJ7siMXo-OSc",
        "outputId": "0f981800-c747-4a80-889c-70eb025947fd"
      },
      "source": [
        "pyplot.plot(history_sick_v3.history['loss'])\r\n",
        "pyplot.plot(history_sick_v3.history['val_loss'])\r\n",
        "pyplot.title('Loss x Épocas')\r\n",
        "pyplot.ylabel('Loss')\r\n",
        "pyplot.xlabel('Época')\r\n",
        "pyplot.legend(['treino', 'validação'], loc='upper left')\r\n",
        "pyplot.show()\r\n",
        "\r\n",
        "pyplot.plot(history_sick_v3.history['accuracy'])\r\n",
        "pyplot.plot(history_sick_v3.history['val_accuracy'])\r\n",
        "pyplot.title('Acurácia x Épocas')\r\n",
        "pyplot.ylabel('Acurácia')\r\n",
        "pyplot.xlabel('Época')\r\n",
        "pyplot.legend(['treino', 'validação'], loc='upper left')\r\n",
        "pyplot.show()\r\n",
        "\r\n",
        "scoreTrain = full_model_sick_v3.evaluate(pneumonia_train_gen, verbose = 1)\r\n",
        "scoreVal = full_model_sick_v3.evaluate(pneumonia_val_gen, verbose = 1)\r\n",
        "print(f'Acurária de treino : {scoreTrain[1]:.4f}')\r\n",
        "print(f'Acurária de validação : {scoreVal[1]:.4f}')"
      ],
      "execution_count": null,
      "outputs": [
        {
          "output_type": "display_data",
          "data": {
            "image/png": "[encoded data removed]",
            "text/plain": [
              "<Figure size 432x288 with 1 Axes>"
            ]
          },
          "metadata": {
            "tags": []
          }
        },
        {
          "output_type": "display_data",
          "data": {
            "image/png": "[encoded data removed]",
            "text/plain": [
              "<Figure size 432x288 with 1 Axes>"
            ]
          },
          "metadata": {
            "tags": []
          }
        },
        {
          "output_type": "stream",
          "text": [
            "71/71 [==============================] - 48s 682ms/step - loss: 0.6424 - accuracy: 0.7287\n",
            "25/25 [==============================] - 17s 671ms/step - loss: 0.6346 - accuracy: 0.7338\n",
            "Acurária de treino : 0.7287\n",
            "Acurária de validação : 0.7338\n"
          ],
          "name": "stdout"
        }
      ]
    },
    {
      "cell_type": "code",
      "metadata": {
        "colab": {
          "base_uri": "https://localhost:8080/",
          "height": 518
        },
        "id": "m9gJiwp8bm7S",
        "outputId": "d34da605-abfe-4cbe-abc6-9df6af7309c8"
      },
      "source": [
        "\r\n",
        "y_pred_train = full_model_sick_v3.predict_classes(pneumonia_train_gen)\r\n",
        "y_pred_val = full_model_sick_v3.predict_classes(pneumonia_val_gen)\r\n",
        "\r\n",
        "bas_train = balanced_accuracy_score(pneumonia_train_gen.classes, y_pred_train)\r\n",
        "bas_val = balanced_accuracy_score(pneumonia_val_gen.classes, y_pred_val)\r\n",
        "\r\n",
        "scoreTrain = full_model_sick_v3.evaluate(pneumonia_train_gen, verbose = 1)\r\n",
        "scoreVal = full_model_sick_v3.evaluate(pneumonia_val_gen, verbose = 1)\r\n",
        "print(f'Acurária de treino : {scoreTrain[1]:.4f}')\r\n",
        "print(f'Acurária de validação : {scoreVal[1]:.4f}')\r\n",
        "\r\n",
        "print(f'Acurácia balanceada treino : {bas_train:.4f}')\r\n",
        "print(f'Acurácia balanceada validação : {bas_val:.4f}')\r\n",
        "\r\n",
        "rounded_predictions = full_model_sick_v3.predict_classes(pneumonia_val_gen, batch_size=32, verbose=0)\r\n",
        "cm = confusion_matrix(pneumonia_val_gen.classes, rounded_predictions)\r\n",
        "cm_plot_lables = ['Vírus', 'Bactéria']\r\n",
        "plot_confusion_matrix(cm, cm_plot_lables, title=\"Matriz de confusão\")"
      ],
      "execution_count": null,
      "outputs": [
        {
          "output_type": "stream",
          "text": [
            "/usr/local/lib/python3.6/dist-packages/tensorflow/python/keras/engine/sequential.py:450: UserWarning: `model.predict_classes()` is deprecated and will be removed after 2021-01-01. Please use instead:* `np.argmax(model.predict(x), axis=-1)`,   if your model does multi-class classification   (e.g. if it uses a `softmax` last-layer activation).* `(model.predict(x) > 0.5).astype(\"int32\")`,   if your model does binary classification   (e.g. if it uses a `sigmoid` last-layer activation).\n",
            "  warnings.warn('`model.predict_classes()` is deprecated and '\n"
          ],
          "name": "stderr"
        },
        {
          "output_type": "stream",
          "text": [
            "71/71 [==============================] - 48s 677ms/step - loss: 0.6439 - accuracy: 0.7260\n",
            "25/25 [==============================] - 17s 669ms/step - loss: 0.6239 - accuracy: 0.7516\n",
            "Acurária de treino : 0.7260\n",
            "Acurária de validação : 0.7516\n",
            "Acurácia balanceada treino : 0.5044\n",
            "Acurácia balanceada validação : 0.5081\n",
            "Confusion Matrix, without normalization\n",
            "[[103 178]\n",
            " [188 320]]\n"
          ],
          "name": "stdout"
        },
        {
          "output_type": "display_data",
          "data": {
            "image/png": "[encoded data removed]",
            "text/plain": [
              "<Figure size 432x288 with 2 Axes>"
            ]
          },
          "metadata": {
            "tags": []
          }
        }
      ]
    },
    {
      "cell_type": "markdown",
      "metadata": {
        "id": "CM9lcz6I-weJ"
      },
      "source": [
        "### InceptionV3 com Fine-tuning"
      ]
    },
    {
      "cell_type": "code",
      "metadata": {
        "colab": {
          "base_uri": "https://localhost:8080/"
        },
        "id": "MqcvwtWh-qng",
        "outputId": "20445817-25a7-4378-ba54-352a3b88394e"
      },
      "source": [
        "# Descongela camadas pré-treinadas\r\n",
        "full_model_sick_v3.trainable = True\r\n",
        "\r\n",
        "full_model_sick_v3.summary()"
      ],
      "execution_count": null,
      "outputs": [
        {
          "output_type": "stream",
          "text": [
            "Model: \"sequential_3\"\n",
            "_________________________________________________________________\n",
            "Layer (type)                 Output Shape              Param #   \n",
            "=================================================================\n",
            "inception_v3 (Functional)    (None, 6, 6, 2048)        21802784  \n",
            "_________________________________________________________________\n",
            "global_average_pooling2d_3 ( (None, 2048)              0         \n",
            "_________________________________________________________________\n",
            "dense_3 (Dense)              (None, 64)                131136    \n",
            "_________________________________________________________________\n",
            "dense_4 (Dense)              (None, 1)                 65        \n",
            "=================================================================\n",
            "Total params: 21,933,985\n",
            "Trainable params: 21,899,553\n",
            "Non-trainable params: 34,432\n",
            "_________________________________________________________________\n"
          ],
          "name": "stdout"
        }
      ]
    },
    {
      "cell_type": "code",
      "metadata": {
        "colab": {
          "base_uri": "https://localhost:8080/"
        },
        "id": "32bHe8GC_MNm",
        "outputId": "44b5fe2c-a332-4e15-aeb6-92db165537e0"
      },
      "source": [
        "#full_model_sick_v3.compile(loss='binary_crossentropy', optimizer=tf.keras.optimizers.Adam(lr=0.001, decay=0.005), metrics=[tf.keras.metrics.AUC(name='auc')])\r\n",
        "full_model_sick_v3.compile(loss=tf.keras.losses.BinaryCrossentropy(from_logits=True), optimizer=tf.keras.optimizers.Adam(lr=1e-5, decay=0.005), metrics=['accuracy'])\r\n",
        "\r\n",
        "history_sick_finetuning_v3 = full_model_sick_v3.fit(pneumonia_train_gen, batch_size=128, epochs=15, verbose = 1, shuffle=True,\r\n",
        "                  validation_data=(pneumonia_val_gen), class_weight=train_class_weights , callbacks=[callbacks])"
      ],
      "execution_count": null,
      "outputs": [
        {
          "output_type": "stream",
          "text": [
            "Epoch 1/15\n",
            "71/71 [==============================] - 81s 1s/step - loss: 0.6698 - accuracy: 0.7077 - val_loss: 0.7674 - val_accuracy: 0.6033\n",
            "Epoch 2/15\n",
            "71/71 [==============================] - 74s 1s/step - loss: 0.6353 - accuracy: 0.7412 - val_loss: 0.7106 - val_accuracy: 0.6641\n",
            "Epoch 3/15\n",
            "71/71 [==============================] - 74s 1s/step - loss: 0.6338 - accuracy: 0.7446 - val_loss: 0.7037 - val_accuracy: 0.6857\n",
            "Epoch 4/15\n",
            "71/71 [==============================] - 74s 1s/step - loss: 0.6088 - accuracy: 0.7481 - val_loss: 0.6934 - val_accuracy: 0.6895\n",
            "Epoch 5/15\n",
            "71/71 [==============================] - 74s 1s/step - loss: 0.5946 - accuracy: 0.7580 - val_loss: 0.6880 - val_accuracy: 0.7174\n",
            "Epoch 6/15\n",
            "71/71 [==============================] - 74s 1s/step - loss: 0.5895 - accuracy: 0.7681 - val_loss: 0.6542 - val_accuracy: 0.7326\n",
            "Epoch 7/15\n",
            "71/71 [==============================] - 73s 1s/step - loss: 0.5689 - accuracy: 0.7782 - val_loss: 0.6377 - val_accuracy: 0.7275\n",
            "Epoch 8/15\n",
            "71/71 [==============================] - 73s 1s/step - loss: 0.5928 - accuracy: 0.7571 - val_loss: 0.6080 - val_accuracy: 0.7554\n",
            "Epoch 9/15\n",
            "71/71 [==============================] - 73s 1s/step - loss: 0.5609 - accuracy: 0.7891 - val_loss: 0.6074 - val_accuracy: 0.7389\n",
            "Epoch 10/15\n",
            "71/71 [==============================] - 73s 1s/step - loss: 0.5542 - accuracy: 0.7728 - val_loss: 0.6095 - val_accuracy: 0.7478\n",
            "Epoch 11/15\n",
            "71/71 [==============================] - 73s 1s/step - loss: 0.5741 - accuracy: 0.7755 - val_loss: 0.5943 - val_accuracy: 0.7541\n",
            "Epoch 12/15\n",
            "71/71 [==============================] - 73s 1s/step - loss: 0.5636 - accuracy: 0.7782 - val_loss: 0.6098 - val_accuracy: 0.7567\n",
            "Epoch 13/15\n",
            "71/71 [==============================] - 73s 1s/step - loss: 0.5499 - accuracy: 0.7901 - val_loss: 0.5881 - val_accuracy: 0.7655\n",
            "Epoch 14/15\n",
            "71/71 [==============================] - 73s 1s/step - loss: 0.5567 - accuracy: 0.7853 - val_loss: 0.5882 - val_accuracy: 0.7592\n",
            "Epoch 15/15\n",
            "71/71 [==============================] - 73s 1s/step - loss: 0.5285 - accuracy: 0.8053 - val_loss: 0.6020 - val_accuracy: 0.7541\n"
          ],
          "name": "stdout"
        }
      ]
    },
    {
      "cell_type": "code",
      "metadata": {
        "colab": {
          "base_uri": "https://localhost:8080/",
          "height": 645
        },
        "id": "KJPEh_XF_X0u",
        "outputId": "bf6e0ab2-7b41-4005-ff49-e622fd4472b7"
      },
      "source": [
        "pyplot.plot(history_sick_finetuning_v3.history['loss'])\r\n",
        "pyplot.plot(history_sick_finetuning_v3.history['val_loss'])\r\n",
        "pyplot.title('Loss x Epocas')\r\n",
        "pyplot.ylabel('Loss')\r\n",
        "pyplot.xlabel('Época')\r\n",
        "pyplot.legend(['treino', 'validação'], loc='upper left')\r\n",
        "pyplot.show()\r\n",
        "\r\n",
        "pyplot.plot(history_sick_finetuning_v3.history['accuracy'])\r\n",
        "pyplot.plot(history_sick_finetuning_v3.history['val_accuracy'])\r\n",
        "pyplot.title('Acurácia x Epocas')\r\n",
        "pyplot.ylabel('Acurácia')\r\n",
        "pyplot.xlabel('Época')\r\n",
        "pyplot.legend(['treino', 'validação'], loc='upper left')\r\n",
        "pyplot.show()\r\n",
        "\r\n",
        "scoreTrain = full_model_sick_v3.evaluate(pneumonia_train_gen, verbose = 1)\r\n",
        "scoreVal = full_model_sick_v3.evaluate(pneumonia_val_gen, verbose = 1)\r\n",
        "print(f'Acurária de treino : {scoreTrain[1]:.4f}')\r\n",
        "print(f'Acurária de validação : {scoreVal[1]:.4f}')"
      ],
      "execution_count": null,
      "outputs": [
        {
          "output_type": "display_data",
          "data": {
            "image/png": "[encoded data removed]",
            "text/plain": [
              "<Figure size 432x288 with 1 Axes>"
            ]
          },
          "metadata": {
            "tags": []
          }
        },
        {
          "output_type": "display_data",
          "data": {
            "image/png": "[encoded data removed]",
            "text/plain": [
              "<Figure size 432x288 with 1 Axes>"
            ]
          },
          "metadata": {
            "tags": []
          }
        },
        {
          "output_type": "stream",
          "text": [
            "71/71 [==============================] - 48s 677ms/step - loss: 0.5404 - accuracy: 0.8020\n",
            "25/25 [==============================] - 17s 663ms/step - loss: 0.5970 - accuracy: 0.7655\n",
            "Acurária de treino : 0.8020\n",
            "Acurária de validação : 0.7655\n"
          ],
          "name": "stdout"
        }
      ]
    },
    {
      "cell_type": "code",
      "metadata": {
        "colab": {
          "base_uri": "https://localhost:8080/",
          "height": 518
        },
        "id": "aJBWjRMicOSi",
        "outputId": "c7c89979-fd4e-437d-e0a4-b6556710f864"
      },
      "source": [
        "y_pred_train = full_model_sick_v3.predict_classes(pneumonia_train_gen)\r\n",
        "y_pred_val = full_model_sick_v3.predict_classes(pneumonia_val_gen)\r\n",
        "\r\n",
        "bas_train = balanced_accuracy_score(pneumonia_train_gen.classes, y_pred_train)\r\n",
        "bas_val = balanced_accuracy_score(pneumonia_val_gen.classes, y_pred_val)\r\n",
        "\r\n",
        "scoreTrain = full_model_sick_v3.evaluate(pneumonia_train_gen, verbose = 1)\r\n",
        "scoreVal = full_model_sick_v3.evaluate(pneumonia_val_gen, verbose = 1)\r\n",
        "print(f'Acurária de treino : {scoreTrain[1]:.4f}')\r\n",
        "print(f'Acurária de validação : {scoreVal[1]:.4f}')\r\n",
        "\r\n",
        "print(f'Acurácia balanceada treino : {bas_train:.4f}')\r\n",
        "print(f'Acurácia balanceada validação : {bas_val:.4f}')\r\n",
        "\r\n",
        "\r\n",
        "rounded_predictions = full_model_sick_v3.predict_classes(pneumonia_val_gen, batch_size=32, verbose=0)\r\n",
        "cm = confusion_matrix(pneumonia_val_gen.classes, rounded_predictions)\r\n",
        "cm_plot_lables = ['Vírus', 'Bactéria']\r\n",
        "plot_confusion_matrix(cm, cm_plot_lables, title=\"Matriz de confusão\")"
      ],
      "execution_count": null,
      "outputs": [
        {
          "output_type": "stream",
          "text": [
            "/usr/local/lib/python3.6/dist-packages/tensorflow/python/keras/engine/sequential.py:450: UserWarning: `model.predict_classes()` is deprecated and will be removed after 2021-01-01. Please use instead:* `np.argmax(model.predict(x), axis=-1)`,   if your model does multi-class classification   (e.g. if it uses a `softmax` last-layer activation).* `(model.predict(x) > 0.5).astype(\"int32\")`,   if your model does binary classification   (e.g. if it uses a `sigmoid` last-layer activation).\n",
            "  warnings.warn('`model.predict_classes()` is deprecated and '\n"
          ],
          "name": "stderr"
        },
        {
          "output_type": "stream",
          "text": [
            "71/71 [==============================] - 48s 678ms/step - loss: 0.5274 - accuracy: 0.8046\n",
            "25/25 [==============================] - 17s 662ms/step - loss: 0.5968 - accuracy: 0.7706\n",
            "Acurária de treino : 0.8046\n",
            "Acurária de validação : 0.7706\n",
            "Acurácia balanceada treino : 0.4938\n",
            "Acurácia balanceada validação : 0.4899\n",
            "Confusion Matrix, without normalization\n",
            "[[122 159]\n",
            " [219 289]]\n"
          ],
          "name": "stdout"
        },
        {
          "output_type": "display_data",
          "data": {
            "image/png": "[encoded data removed]",
            "text/plain": [
              "<Figure size 432x288 with 2 Axes>"
            ]
          },
          "metadata": {
            "tags": []
          }
        }
      ]
    },
    {
      "cell_type": "markdown",
      "metadata": {
        "id": "T6tVf8vqp58_"
      },
      "source": [
        "## RESULTADO BASE TESTE"
      ]
    },
    {
      "cell_type": "code",
      "metadata": {
        "colab": {
          "base_uri": "https://localhost:8080/"
        },
        "id": "mekYWOq8p5sU",
        "outputId": "8a81e0f0-0687-4300-b6fc-4d5627c37d3c"
      },
      "source": [
        "\r\n",
        "pneumonia_test_gen = train_datagen.flow_from_dataframe(dataframe=test_sick,\r\n",
        "                                             directory=test_path,\r\n",
        "                                             x_col=\"X_ray_image_name\",\r\n",
        "                                             y_col=\"Label_1_Virus_category\",\r\n",
        "                                             target_size=(255, 255),\r\n",
        "                                             batch_size=32,\r\n",
        "                                             class_mode='binary',\r\n",
        "                                              shuffle=True\r\n",
        "                                             )\r\n",
        "\r\n",
        "pneumonia_test_gen.class_indices\r\n",
        "scoreTest = full_model_sick_v3.evaluate(pneumonia_test_gen, verbose = 1)\r\n",
        "print(f'Acurária de teste : {scoreTest[1]:.4f}')\r\n",
        "\r\n",
        "y_pred_test = full_model_sick_v3.predict_classes(pneumonia_test_gen, verbose=0)\r\n",
        "bas_test = balanced_accuracy_score(pneumonia_test_gen.labels, y_pred_test)\r\n",
        "print(f'Acurácia balanceada teste : {bas_test:.4f}')\r\n"
      ],
      "execution_count": null,
      "outputs": [
        {
          "output_type": "stream",
          "text": [
            "Found 390 validated image filenames belonging to 2 classes.\n",
            "13/13 [==============================] - 8s 583ms/step - loss: 0.4081 - accuracy: 0.8821\n",
            "Acurária de teste : 0.8821\n"
          ],
          "name": "stdout"
        },
        {
          "output_type": "stream",
          "text": [
            "/usr/local/lib/python3.6/dist-packages/tensorflow/python/keras/engine/sequential.py:450: UserWarning: `model.predict_classes()` is deprecated and will be removed after 2021-01-01. Please use instead:* `np.argmax(model.predict(x), axis=-1)`,   if your model does multi-class classification   (e.g. if it uses a `softmax` last-layer activation).* `(model.predict(x) > 0.5).astype(\"int32\")`,   if your model does binary classification   (e.g. if it uses a `sigmoid` last-layer activation).\n",
            "  warnings.warn('`model.predict_classes()` is deprecated and '\n"
          ],
          "name": "stderr"
        },
        {
          "output_type": "stream",
          "text": [
            "Acurácia balanceada teste : 0.5684\n"
          ],
          "name": "stdout"
        }
      ]
    },
    {
      "cell_type": "markdown",
      "metadata": {
        "id": "fJyZcECxsnBG"
      },
      "source": [
        "## Matriz confusão base de Teste"
      ]
    },
    {
      "cell_type": "code",
      "metadata": {
        "colab": {
          "base_uri": "https://localhost:8080/",
          "height": 416
        },
        "id": "p-9-CbiBspPQ",
        "outputId": "538645c2-e3ad-4fca-b683-598498b0e365"
      },
      "source": [
        "rounded_predictions = full_model_sick_v3.predict_classes(pneumonia_test_gen, batch_size=32, verbose=0)\r\n",
        "cm = confusion_matrix(pneumonia_test_gen.classes, rounded_predictions)\r\n",
        "cm_plot_lables = ['Vírus', 'Bactéria']\r\n",
        "plot_confusion_matrix(cm, cm_plot_lables, title=\"Matriz de confusão\")"
      ],
      "execution_count": null,
      "outputs": [
        {
          "output_type": "stream",
          "text": [
            "/usr/local/lib/python3.6/dist-packages/tensorflow/python/keras/engine/sequential.py:450: UserWarning: `model.predict_classes()` is deprecated and will be removed after 2021-01-01. Please use instead:* `np.argmax(model.predict(x), axis=-1)`,   if your model does multi-class classification   (e.g. if it uses a `softmax` last-layer activation).* `(model.predict(x) > 0.5).astype(\"int32\")`,   if your model does binary classification   (e.g. if it uses a `sigmoid` last-layer activation).\n",
            "  warnings.warn('`model.predict_classes()` is deprecated and '\n"
          ],
          "name": "stderr"
        },
        {
          "output_type": "stream",
          "text": [
            "Confusion Matrix, without normalization\n",
            "[[ 57  91]\n",
            " [ 93 149]]\n"
          ],
          "name": "stdout"
        },
        {
          "output_type": "display_data",
          "data": {
            "image/png": "[encoded data removed]",
            "text/plain": [
              "<Figure size 432x288 with 2 Axes>"
            ]
          },
          "metadata": {
            "tags": []
          }
        }
      ]
    }
  ]
}